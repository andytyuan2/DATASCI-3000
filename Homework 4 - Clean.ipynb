{
 "cells": [
  {
   "cell_type": "markdown",
   "metadata": {
    "id": "twKpLeRhDeyQ"
   },
   "source": [
    "# Homework 4\n",
    "\n",
    "## Follow These Steps Before Submitting\n",
    "Once you are finished, ensure to complete the following steps.\n",
    "\n",
    "1.  Restart your kernel by clicking 'Kernel' > 'Restart & Run All'.\n",
    "\n",
    "2.  Fix any errors which result from this.\n",
    "\n",
    "3.  Repeat steps 1. and 2. until your notebook runs without errors.\n",
    "\n",
    "4.  Submit your completed notebook to OWL by the deadline.\n"
   ]
  },
  {
   "cell_type": "markdown",
   "metadata": {
    "id": "waD8EZwFMt1U"
   },
   "source": [
    "# 1. Wisconsin Breast Cancer Dataset\n",
    "\n",
    "In this assignment, you will use a modified version of the well-known Wisconsin Breast Cancer dataset. We want to predict if a patient has a malignant or benign tumour. The features in the dataset are described below:\n",
    "\n",
    "\n",
    "**Cl.thickness**:\tClump Thickness\n",
    "\n",
    "**Cell.size**:\tUniformity of Cell Size\n",
    "\n",
    "**Cell.shape**:\tUniformity of Cell Shape\n",
    "\n",
    "**Marg.adhesion**:\tMarginal Adhesion\n",
    "\n",
    "**Epith.c.size**:\tSingle Epithelial Cell Size\n",
    "\n",
    "**Bare.nuclei**:\tBare Nuclei\n",
    "\n",
    "**Bl.cromatin**:\tBland Chromatin\n",
    "\n",
    "**Normal.nucleoli**:\tNormal Nucleoli\n",
    "\n",
    "**Mitoses**:\tMitoses\n",
    "\n",
    "**Age**: Age\n",
    "\n",
    "**Class**: 1 if malignant, 0 if benign"
   ]
  },
  {
   "cell_type": "code",
   "execution_count": 1,
   "metadata": {
    "id": "zJdm6Uxlq-kc"
   },
   "outputs": [],
   "source": [
    "# Package import\n",
    "import numpy as np\n",
    "\n",
    "# Scikit-learn imports\n",
    "from sklearn.model_selection import train_test_split, cross_validate, RepeatedKFold\n",
    "from sklearn.pipeline import Pipeline\n",
    "from sklearn.linear_model import LogisticRegression\n",
    "from sklearn.metrics import confusion_matrix, roc_curve, roc_auc_score, classification_report, accuracy_score\n",
    "from sklearn.preprocessing import StandardScaler\n",
    "from sklearn.compose import ColumnTransformer\n",
    "\n",
    "# Data management imports\n",
    "import pandas as pd\n",
    "import polars as pl\n",
    "\n",
    "# Plotting imports\n",
    "import matplotlib.pyplot as plt\n",
    "import seaborn as sns\n",
    "%matplotlib inline"
   ]
  },
  {
   "cell_type": "code",
   "execution_count": 2,
   "metadata": {
    "id": "nKQxNU4X6i3I"
   },
   "outputs": [],
   "source": [
    "# Uncomment the line below if you are using Google colab\n",
    "# !gdown https://drive.google.com/uc?id=12Y-PdpmPLInGGBvFAn_G3eCfXrRETvuF"
   ]
  },
  {
   "cell_type": "markdown",
   "metadata": {
    "id": "tTKdVYZLGm-b"
   },
   "source": [
    "1. Read the CSV file using Polars and store it. Use \"null_values=['NA']\". Show summary statistics for the dataset. What is the baseline accuracy for a model?"
   ]
  },
  {
   "cell_type": "code",
   "execution_count": 2,
   "metadata": {
    "id": "Wj-Yl2t5JW0Y"
   },
   "outputs": [
    {
     "data": {
      "text/html": [
       "<div><style>\n",
       ".dataframe > thead > tr,\n",
       ".dataframe > tbody > tr {\n",
       "  text-align: right;\n",
       "  white-space: pre-wrap;\n",
       "}\n",
       "</style>\n",
       "<small>shape: (9, 12)</small><table border=\"1\" class=\"dataframe\"><thead><tr><th>statistic</th><th>Cl.thickness</th><th>Cell.size</th><th>Cell.shape</th><th>Marg.adhesion</th><th>Epith.c.size</th><th>Bare.nuclei</th><th>Bl.cromatin</th><th>Normal.nucleoli</th><th>Mitoses</th><th>Class</th><th>Age</th></tr><tr><td>str</td><td>f64</td><td>f64</td><td>f64</td><td>f64</td><td>f64</td><td>f64</td><td>f64</td><td>f64</td><td>f64</td><td>f64</td><td>f64</td></tr></thead><tbody><tr><td>&quot;count&quot;</td><td>696.0</td><td>694.0</td><td>694.0</td><td>699.0</td><td>699.0</td><td>683.0</td><td>699.0</td><td>699.0</td><td>699.0</td><td>699.0</td><td>699.0</td></tr><tr><td>&quot;null_count&quot;</td><td>3.0</td><td>5.0</td><td>5.0</td><td>0.0</td><td>0.0</td><td>16.0</td><td>0.0</td><td>0.0</td><td>0.0</td><td>0.0</td><td>0.0</td></tr><tr><td>&quot;mean&quot;</td><td>4.426724</td><td>3.136888</td><td>3.208934</td><td>2.806867</td><td>3.216023</td><td>3.544656</td><td>3.437768</td><td>2.866953</td><td>1.569385</td><td>0.344778</td><td>50.100143</td></tr><tr><td>&quot;std&quot;</td><td>2.815748</td><td>3.053632</td><td>2.973356</td><td>2.855379</td><td>2.2143</td><td>3.643857</td><td>2.438364</td><td>3.053634</td><td>1.619803</td><td>0.475636</td><td>17.97766</td></tr><tr><td>&quot;min&quot;</td><td>1.0</td><td>1.0</td><td>1.0</td><td>1.0</td><td>1.0</td><td>1.0</td><td>1.0</td><td>1.0</td><td>1.0</td><td>0.0</td><td>3.0</td></tr><tr><td>&quot;25%&quot;</td><td>2.0</td><td>1.0</td><td>1.0</td><td>1.0</td><td>2.0</td><td>1.0</td><td>2.0</td><td>1.0</td><td>1.0</td><td>0.0</td><td>38.0</td></tr><tr><td>&quot;50%&quot;</td><td>4.0</td><td>1.0</td><td>1.0</td><td>1.0</td><td>2.0</td><td>1.0</td><td>3.0</td><td>1.0</td><td>1.0</td><td>0.0</td><td>50.0</td></tr><tr><td>&quot;75%&quot;</td><td>6.0</td><td>5.0</td><td>5.0</td><td>4.0</td><td>4.0</td><td>6.0</td><td>5.0</td><td>4.0</td><td>1.0</td><td>1.0</td><td>62.0</td></tr><tr><td>&quot;max&quot;</td><td>10.0</td><td>10.0</td><td>10.0</td><td>10.0</td><td>10.0</td><td>10.0</td><td>10.0</td><td>10.0</td><td>9.0</td><td>1.0</td><td>105.0</td></tr></tbody></table></div>"
      ],
      "text/plain": [
       "shape: (9, 12)\n",
       "┌────────────┬───────────┬───────────┬───────────┬───┬───────────┬──────────┬──────────┬───────────┐\n",
       "│ statistic  ┆ Cl.thickn ┆ Cell.size ┆ Cell.shap ┆ … ┆ Normal.nu ┆ Mitoses  ┆ Class    ┆ Age       │\n",
       "│ ---        ┆ ess       ┆ ---       ┆ e         ┆   ┆ cleoli    ┆ ---      ┆ ---      ┆ ---       │\n",
       "│ str        ┆ ---       ┆ f64       ┆ ---       ┆   ┆ ---       ┆ f64      ┆ f64      ┆ f64       │\n",
       "│            ┆ f64       ┆           ┆ f64       ┆   ┆ f64       ┆          ┆          ┆           │\n",
       "╞════════════╪═══════════╪═══════════╪═══════════╪═══╪═══════════╪══════════╪══════════╪═══════════╡\n",
       "│ count      ┆ 696.0     ┆ 694.0     ┆ 694.0     ┆ … ┆ 699.0     ┆ 699.0    ┆ 699.0    ┆ 699.0     │\n",
       "│ null_count ┆ 3.0       ┆ 5.0       ┆ 5.0       ┆ … ┆ 0.0       ┆ 0.0      ┆ 0.0      ┆ 0.0       │\n",
       "│ mean       ┆ 4.426724  ┆ 3.136888  ┆ 3.208934  ┆ … ┆ 2.866953  ┆ 1.569385 ┆ 0.344778 ┆ 50.100143 │\n",
       "│ std        ┆ 2.815748  ┆ 3.053632  ┆ 2.973356  ┆ … ┆ 3.053634  ┆ 1.619803 ┆ 0.475636 ┆ 17.97766  │\n",
       "│ min        ┆ 1.0       ┆ 1.0       ┆ 1.0       ┆ … ┆ 1.0       ┆ 1.0      ┆ 0.0      ┆ 3.0       │\n",
       "│ 25%        ┆ 2.0       ┆ 1.0       ┆ 1.0       ┆ … ┆ 1.0       ┆ 1.0      ┆ 0.0      ┆ 38.0      │\n",
       "│ 50%        ┆ 4.0       ┆ 1.0       ┆ 1.0       ┆ … ┆ 1.0       ┆ 1.0      ┆ 0.0      ┆ 50.0      │\n",
       "│ 75%        ┆ 6.0       ┆ 5.0       ┆ 5.0       ┆ … ┆ 4.0       ┆ 1.0      ┆ 1.0      ┆ 62.0      │\n",
       "│ max        ┆ 10.0      ┆ 10.0      ┆ 10.0      ┆ … ┆ 10.0      ┆ 9.0      ┆ 1.0      ┆ 105.0     │\n",
       "└────────────┴───────────┴───────────┴───────────┴───┴───────────┴──────────┴──────────┴───────────┘"
      ]
     },
     "execution_count": 2,
     "metadata": {},
     "output_type": "execute_result"
    }
   ],
   "source": [
    "breastcanc = pl.read_csv(\"Breast Cancer Data.csv\", null_values=['NA'])\n",
    "breastcanc.describe()"
   ]
  },
  {
   "cell_type": "code",
   "execution_count": 3,
   "metadata": {},
   "outputs": [
    {
     "name": "stdout",
     "output_type": "stream",
     "text": [
      "The baseline accuracy is 0.6552217453505007\n"
     ]
    }
   ],
   "source": [
    "posrate = breastcanc.select(\"Class\").mean().to_numpy().item()\n",
    "baselineaccuracy = 1-posrate\n",
    "print(f\"The baseline accuracy is {baselineaccuracy}\")"
   ]
  },
  {
   "cell_type": "markdown",
   "metadata": {
    "id": "P6oA1stMv5Fj"
   },
   "source": [
    "The baseline accuracy of the data is 0.6552217453505007"
   ]
  },
  {
   "cell_type": "markdown",
   "metadata": {
    "id": "1tw6pJdOcY_k"
   },
   "source": [
    "2. Assume that we are only interested in studying people aged 100 or less. Remove anyone with ages larger than that. (Note that this slightly changes your baseline accuracy.)"
   ]
  },
  {
   "cell_type": "code",
   "execution_count": 4,
   "metadata": {
    "id": "CwASQWPl87ye"
   },
   "outputs": [],
   "source": [
    "breastcanc = breastcanc.filter(\n",
    "    pl.col(\"Age\") > 100\n",
    "    )"
   ]
  },
  {
   "cell_type": "markdown",
   "metadata": {
    "id": "4rSrLV3hnrek"
   },
   "source": [
    "3. Replace the missing values in the dataset using the median of the corresponding predictor."
   ]
  },
  {
   "cell_type": "code",
   "execution_count": 5,
   "metadata": {
    "id": "htFdyZepn1uB"
   },
   "outputs": [],
   "source": [
    "breastcanc = breastcanc.with_columns(\n",
    "    pl.col(\"Cl.thickness\").fill_null(pl.col(\"Cl.thickness\").median()),\n",
    "    pl.col(\"Cell.size\").fill_null(pl.col(\"Cell.size\").median()),\n",
    "    pl.col(\"Cell.shape\").fill_null(pl.col(\"Cell.shape\").median()),\n",
    "    pl.col(\"Bare.nuclei\").fill_null(pl.col(\"Bare.nuclei\").median())\n",
    ")"
   ]
  },
  {
   "cell_type": "markdown",
   "metadata": {
    "id": "GR9-bjxqcZ_V"
   },
   "source": [
    "4. Create a training and testing dataset. Reserve 30% of the data for testing and stratify the split based on the outcome. Use a random state of 0."
   ]
  },
  {
   "cell_type": "code",
   "execution_count": 8,
   "metadata": {
    "id": "uKXVS9DWcaPy"
   },
   "outputs": [
    {
     "ename": "ValueError",
     "evalue": "The least populated class in y has only 1 member, which is too few. The minimum number of groups for any class cannot be less than 2.",
     "output_type": "error",
     "traceback": [
      "\u001b[1;31m---------------------------------------------------------------------------\u001b[0m",
      "\u001b[1;31mValueError\u001b[0m                                Traceback (most recent call last)",
      "Cell \u001b[1;32mIn[8], line 1\u001b[0m\n\u001b[1;32m----> 1\u001b[0m Xtrain, Xtest, ytrain, ytest \u001b[38;5;241m=\u001b[39m \u001b[43mtrain_test_split\u001b[49m\u001b[43m(\u001b[49m\u001b[43mbreastcanc\u001b[49m\u001b[38;5;241;43m.\u001b[39;49m\u001b[43mdrop\u001b[49m\u001b[43m(\u001b[49m\u001b[38;5;124;43m'\u001b[39;49m\u001b[38;5;124;43mClass\u001b[39;49m\u001b[38;5;124;43m'\u001b[39;49m\u001b[43m)\u001b[49m\u001b[43m,\u001b[49m\n\u001b[0;32m      2\u001b[0m \u001b[43m                                                \u001b[49m\u001b[43mbreastcanc\u001b[49m\u001b[38;5;241;43m.\u001b[39;49m\u001b[43mselect\u001b[49m\u001b[43m(\u001b[49m\u001b[38;5;124;43m'\u001b[39;49m\u001b[38;5;124;43mClass\u001b[39;49m\u001b[38;5;124;43m'\u001b[39;49m\u001b[43m)\u001b[49m\u001b[43m,\u001b[49m\n\u001b[0;32m      3\u001b[0m \u001b[43m                                                \u001b[49m\u001b[43mtest_size\u001b[49m\u001b[38;5;241;43m=\u001b[39;49m\u001b[38;5;241;43m0.3\u001b[39;49m\u001b[43m,\u001b[49m\n\u001b[0;32m      4\u001b[0m \u001b[43m                                                \u001b[49m\u001b[43mrandom_state\u001b[49m\u001b[38;5;241;43m=\u001b[39;49m\u001b[38;5;241;43m0\u001b[39;49m\u001b[43m,\u001b[49m\n\u001b[0;32m      5\u001b[0m \u001b[43m                                                \u001b[49m\u001b[43mstratify\u001b[49m\u001b[38;5;241;43m=\u001b[39;49m\u001b[43mbreastcanc\u001b[49m\u001b[38;5;241;43m.\u001b[39;49m\u001b[43mselect\u001b[49m\u001b[43m(\u001b[49m\u001b[38;5;124;43m'\u001b[39;49m\u001b[38;5;124;43mClass\u001b[39;49m\u001b[38;5;124;43m'\u001b[39;49m\u001b[43m)\u001b[49m\u001b[43m \u001b[49m\u001b[38;5;66;43;03m# Stratify requires binary values\u001b[39;49;00m\n\u001b[0;32m      6\u001b[0m \u001b[43m                                                \u001b[49m\u001b[43m)\u001b[49m\n",
      "File \u001b[1;32m~\\AppData\\Local\\Packages\\PythonSoftwareFoundation.Python.3.10_qbz5n2kfra8p0\\LocalCache\\local-packages\\Python310\\site-packages\\sklearn\\utils\\_param_validation.py:216\u001b[0m, in \u001b[0;36mvalidate_params.<locals>.decorator.<locals>.wrapper\u001b[1;34m(*args, **kwargs)\u001b[0m\n\u001b[0;32m    210\u001b[0m \u001b[38;5;28;01mtry\u001b[39;00m:\n\u001b[0;32m    211\u001b[0m     \u001b[38;5;28;01mwith\u001b[39;00m config_context(\n\u001b[0;32m    212\u001b[0m         skip_parameter_validation\u001b[38;5;241m=\u001b[39m(\n\u001b[0;32m    213\u001b[0m             prefer_skip_nested_validation \u001b[38;5;129;01mor\u001b[39;00m global_skip_validation\n\u001b[0;32m    214\u001b[0m         )\n\u001b[0;32m    215\u001b[0m     ):\n\u001b[1;32m--> 216\u001b[0m         \u001b[38;5;28;01mreturn\u001b[39;00m func(\u001b[38;5;241m*\u001b[39margs, \u001b[38;5;241m*\u001b[39m\u001b[38;5;241m*\u001b[39mkwargs)\n\u001b[0;32m    217\u001b[0m \u001b[38;5;28;01mexcept\u001b[39;00m InvalidParameterError \u001b[38;5;28;01mas\u001b[39;00m e:\n\u001b[0;32m    218\u001b[0m     \u001b[38;5;66;03m# When the function is just a wrapper around an estimator, we allow\u001b[39;00m\n\u001b[0;32m    219\u001b[0m     \u001b[38;5;66;03m# the function to delegate validation to the estimator, but we replace\u001b[39;00m\n\u001b[0;32m    220\u001b[0m     \u001b[38;5;66;03m# the name of the estimator by the name of the function in the error\u001b[39;00m\n\u001b[0;32m    221\u001b[0m     \u001b[38;5;66;03m# message to avoid confusion.\u001b[39;00m\n\u001b[0;32m    222\u001b[0m     msg \u001b[38;5;241m=\u001b[39m re\u001b[38;5;241m.\u001b[39msub(\n\u001b[0;32m    223\u001b[0m         \u001b[38;5;124mr\u001b[39m\u001b[38;5;124m\"\u001b[39m\u001b[38;5;124mparameter of \u001b[39m\u001b[38;5;124m\\\u001b[39m\u001b[38;5;124mw+ must be\u001b[39m\u001b[38;5;124m\"\u001b[39m,\n\u001b[0;32m    224\u001b[0m         \u001b[38;5;124mf\u001b[39m\u001b[38;5;124m\"\u001b[39m\u001b[38;5;124mparameter of \u001b[39m\u001b[38;5;132;01m{\u001b[39;00mfunc\u001b[38;5;241m.\u001b[39m\u001b[38;5;18m__qualname__\u001b[39m\u001b[38;5;132;01m}\u001b[39;00m\u001b[38;5;124m must be\u001b[39m\u001b[38;5;124m\"\u001b[39m,\n\u001b[0;32m    225\u001b[0m         \u001b[38;5;28mstr\u001b[39m(e),\n\u001b[0;32m    226\u001b[0m     )\n",
      "File \u001b[1;32m~\\AppData\\Local\\Packages\\PythonSoftwareFoundation.Python.3.10_qbz5n2kfra8p0\\LocalCache\\local-packages\\Python310\\site-packages\\sklearn\\model_selection\\_split.py:2872\u001b[0m, in \u001b[0;36mtrain_test_split\u001b[1;34m(test_size, train_size, random_state, shuffle, stratify, *arrays)\u001b[0m\n\u001b[0;32m   2868\u001b[0m         CVClass \u001b[38;5;241m=\u001b[39m ShuffleSplit\n\u001b[0;32m   2870\u001b[0m     cv \u001b[38;5;241m=\u001b[39m CVClass(test_size\u001b[38;5;241m=\u001b[39mn_test, train_size\u001b[38;5;241m=\u001b[39mn_train, random_state\u001b[38;5;241m=\u001b[39mrandom_state)\n\u001b[1;32m-> 2872\u001b[0m     train, test \u001b[38;5;241m=\u001b[39m \u001b[38;5;28;43mnext\u001b[39;49m\u001b[43m(\u001b[49m\u001b[43mcv\u001b[49m\u001b[38;5;241;43m.\u001b[39;49m\u001b[43msplit\u001b[49m\u001b[43m(\u001b[49m\u001b[43mX\u001b[49m\u001b[38;5;241;43m=\u001b[39;49m\u001b[43marrays\u001b[49m\u001b[43m[\u001b[49m\u001b[38;5;241;43m0\u001b[39;49m\u001b[43m]\u001b[49m\u001b[43m,\u001b[49m\u001b[43m \u001b[49m\u001b[43my\u001b[49m\u001b[38;5;241;43m=\u001b[39;49m\u001b[43mstratify\u001b[49m\u001b[43m)\u001b[49m\u001b[43m)\u001b[49m\n\u001b[0;32m   2874\u001b[0m train, test \u001b[38;5;241m=\u001b[39m ensure_common_namespace_device(arrays[\u001b[38;5;241m0\u001b[39m], train, test)\n\u001b[0;32m   2876\u001b[0m \u001b[38;5;28;01mreturn\u001b[39;00m \u001b[38;5;28mlist\u001b[39m(\n\u001b[0;32m   2877\u001b[0m     chain\u001b[38;5;241m.\u001b[39mfrom_iterable(\n\u001b[0;32m   2878\u001b[0m         (_safe_indexing(a, train), _safe_indexing(a, test)) \u001b[38;5;28;01mfor\u001b[39;00m a \u001b[38;5;129;01min\u001b[39;00m arrays\n\u001b[0;32m   2879\u001b[0m     )\n\u001b[0;32m   2880\u001b[0m )\n",
      "File \u001b[1;32m~\\AppData\\Local\\Packages\\PythonSoftwareFoundation.Python.3.10_qbz5n2kfra8p0\\LocalCache\\local-packages\\Python310\\site-packages\\sklearn\\model_selection\\_split.py:1909\u001b[0m, in \u001b[0;36mBaseShuffleSplit.split\u001b[1;34m(self, X, y, groups)\u001b[0m\n\u001b[0;32m   1879\u001b[0m \u001b[38;5;250m\u001b[39m\u001b[38;5;124;03m\"\"\"Generate indices to split data into training and test set.\u001b[39;00m\n\u001b[0;32m   1880\u001b[0m \n\u001b[0;32m   1881\u001b[0m \u001b[38;5;124;03mParameters\u001b[39;00m\n\u001b[1;32m   (...)\u001b[0m\n\u001b[0;32m   1906\u001b[0m \u001b[38;5;124;03mto an integer.\u001b[39;00m\n\u001b[0;32m   1907\u001b[0m \u001b[38;5;124;03m\"\"\"\u001b[39;00m\n\u001b[0;32m   1908\u001b[0m X, y, groups \u001b[38;5;241m=\u001b[39m indexable(X, y, groups)\n\u001b[1;32m-> 1909\u001b[0m \u001b[38;5;28;01mfor\u001b[39;00m train, test \u001b[38;5;129;01min\u001b[39;00m \u001b[38;5;28mself\u001b[39m\u001b[38;5;241m.\u001b[39m_iter_indices(X, y, groups):\n\u001b[0;32m   1910\u001b[0m     \u001b[38;5;28;01myield\u001b[39;00m train, test\n",
      "File \u001b[1;32m~\\AppData\\Local\\Packages\\PythonSoftwareFoundation.Python.3.10_qbz5n2kfra8p0\\LocalCache\\local-packages\\Python310\\site-packages\\sklearn\\model_selection\\_split.py:2318\u001b[0m, in \u001b[0;36mStratifiedShuffleSplit._iter_indices\u001b[1;34m(self, X, y, groups)\u001b[0m\n\u001b[0;32m   2316\u001b[0m class_counts \u001b[38;5;241m=\u001b[39m np\u001b[38;5;241m.\u001b[39mbincount(y_indices)\n\u001b[0;32m   2317\u001b[0m \u001b[38;5;28;01mif\u001b[39;00m np\u001b[38;5;241m.\u001b[39mmin(class_counts) \u001b[38;5;241m<\u001b[39m \u001b[38;5;241m2\u001b[39m:\n\u001b[1;32m-> 2318\u001b[0m     \u001b[38;5;28;01mraise\u001b[39;00m \u001b[38;5;167;01mValueError\u001b[39;00m(\n\u001b[0;32m   2319\u001b[0m         \u001b[38;5;124m\"\u001b[39m\u001b[38;5;124mThe least populated class in y has only 1\u001b[39m\u001b[38;5;124m\"\u001b[39m\n\u001b[0;32m   2320\u001b[0m         \u001b[38;5;124m\"\u001b[39m\u001b[38;5;124m member, which is too few. The minimum\u001b[39m\u001b[38;5;124m\"\u001b[39m\n\u001b[0;32m   2321\u001b[0m         \u001b[38;5;124m\"\u001b[39m\u001b[38;5;124m number of groups for any class cannot\u001b[39m\u001b[38;5;124m\"\u001b[39m\n\u001b[0;32m   2322\u001b[0m         \u001b[38;5;124m\"\u001b[39m\u001b[38;5;124m be less than 2.\u001b[39m\u001b[38;5;124m\"\u001b[39m\n\u001b[0;32m   2323\u001b[0m     )\n\u001b[0;32m   2325\u001b[0m \u001b[38;5;28;01mif\u001b[39;00m n_train \u001b[38;5;241m<\u001b[39m n_classes:\n\u001b[0;32m   2326\u001b[0m     \u001b[38;5;28;01mraise\u001b[39;00m \u001b[38;5;167;01mValueError\u001b[39;00m(\n\u001b[0;32m   2327\u001b[0m         \u001b[38;5;124m\"\u001b[39m\u001b[38;5;124mThe train_size = \u001b[39m\u001b[38;5;132;01m%d\u001b[39;00m\u001b[38;5;124m should be greater or \u001b[39m\u001b[38;5;124m\"\u001b[39m\n\u001b[0;32m   2328\u001b[0m         \u001b[38;5;124m\"\u001b[39m\u001b[38;5;124mequal to the number of classes = \u001b[39m\u001b[38;5;132;01m%d\u001b[39;00m\u001b[38;5;124m\"\u001b[39m \u001b[38;5;241m%\u001b[39m (n_train, n_classes)\n\u001b[0;32m   2329\u001b[0m     )\n",
      "\u001b[1;31mValueError\u001b[0m: The least populated class in y has only 1 member, which is too few. The minimum number of groups for any class cannot be less than 2."
     ]
    }
   ],
   "source": [
    "Xtrain, Xtest, ytrain, ytest = train_test_split(breastcanc.drop('Class'),\n",
    "                                                breastcanc.select('Class'),\n",
    "                                                test_size=0.3,\n",
    "                                                random_state=0,\n",
    "                                                stratify=breastcanc.select('Class') # Stratify requires binary values\n",
    "                                                )"
   ]
  },
  {
   "cell_type": "markdown",
   "metadata": {
    "id": "ZD6jBNP7wd_d"
   },
   "source": [
    "5. Using all potential predictors, train a logistic regression model to predict if a patient has the condition. Remember to standardize the predictors. Use the following arguments: solver='lbfgs', penalty=None, max_iter=10000, verbose=1, random_state=0, and n_jobs=-1."
   ]
  },
  {
   "cell_type": "code",
   "execution_count": 7,
   "metadata": {
    "id": "SVgbr2N1wt97"
   },
   "outputs": [
    {
     "ename": "NameError",
     "evalue": "name 'Xtrain' is not defined",
     "output_type": "error",
     "traceback": [
      "\u001b[1;31m---------------------------------------------------------------------------\u001b[0m",
      "\u001b[1;31mNameError\u001b[0m                                 Traceback (most recent call last)",
      "Cell \u001b[1;32mIn[7], line 22\u001b[0m\n\u001b[0;32m     10\u001b[0m \u001b[38;5;66;03m# Create a pipeline that scales the features and trains a logistic regression model\u001b[39;00m\n\u001b[0;32m     11\u001b[0m logit_pipe \u001b[38;5;241m=\u001b[39m Pipeline([\n\u001b[0;32m     12\u001b[0m     (\u001b[38;5;124m'\u001b[39m\u001b[38;5;124mscaler\u001b[39m\u001b[38;5;124m'\u001b[39m, transform_numbers),\n\u001b[0;32m     13\u001b[0m     (\u001b[38;5;124m'\u001b[39m\u001b[38;5;124mlogistic_regression\u001b[39m\u001b[38;5;124m'\u001b[39m, LogisticRegression(solver\u001b[38;5;241m=\u001b[39m\u001b[38;5;124m'\u001b[39m\u001b[38;5;124mlbfgs\u001b[39m\u001b[38;5;124m'\u001b[39m,\n\u001b[1;32m   (...)\u001b[0m\n\u001b[0;32m     19\u001b[0m                                                class_weight\u001b[38;5;241m=\u001b[39m\u001b[38;5;124m'\u001b[39m\u001b[38;5;124mbalanced\u001b[39m\u001b[38;5;124m'\u001b[39m))\n\u001b[0;32m     20\u001b[0m ])\n\u001b[1;32m---> 22\u001b[0m logit_pipe\u001b[38;5;241m.\u001b[39mfit(\u001b[43mXtrain\u001b[49m, ytrain\u001b[38;5;241m.\u001b[39mto_numpy()\u001b[38;5;241m.\u001b[39mravel())\n",
      "\u001b[1;31mNameError\u001b[0m: name 'Xtrain' is not defined"
     ]
    }
   ],
   "source": [
    "features_to_transform = ['Cl.thickness', 'Cell.size', 'Cell.shape', 'Marg.adhesion', 'Epith.c.size',\n",
    "                         'Bare.nuclei', 'Bl.cromatin', 'Normal.nucleoli', 'Mitoses', 'Age']\n",
    "\n",
    "# Create a ColumnTransformer object that scales the features to transform\n",
    "transform_numbers = ColumnTransformer([('scaler', StandardScaler(), features_to_transform)],\n",
    "                                      remainder='passthrough',\n",
    "                                      verbose_feature_names_out=False,\n",
    "                                      force_int_remainder_cols=False)\n",
    "\n",
    "# Create a pipeline that scales the features and trains a logistic regression model\n",
    "logit_pipe = Pipeline([\n",
    "    ('scaler', transform_numbers),\n",
    "    ('logistic_regression', LogisticRegression(solver='lbfgs',\n",
    "                                               penalty = None,\n",
    "                                               max_iter=10000,\n",
    "                                               verbose=1,\n",
    "                                               random_state=0,\n",
    "                                               n_jobs=-1,\n",
    "                                               class_weight='balanced'))\n",
    "])\n",
    "\n",
    "logit_pipe.fit(Xtrain, ytrain.to_numpy().ravel())"
   ]
  },
  {
   "cell_type": "markdown",
   "metadata": {
    "id": "0FNliCyvxT19"
   },
   "source": [
    "6. Compute the accuracy and AUC of your model on the test set."
   ]
  },
  {
   "cell_type": "code",
   "execution_count": null,
   "metadata": {
    "id": "Qo-ltgtixP8w"
   },
   "outputs": [],
   "source": [
    "accuracy = logit_pipe.score(Xtest, ytest.to_numpy().ravel())\n",
    "y_test_prediction = logit_pipe.predict_proba(Xtest)\n",
    "auc = np.round(roc_auc_score(y_true=ytest, y_score=y_test_prediction[:,1]),\n",
    "               decimals = 3)\n",
    "print(f\"The AUC of the model is {auc}\")\n",
    "print(f\"The accuracy of the model is {accuracy}\")"
   ]
  },
  {
   "cell_type": "markdown",
   "metadata": {},
   "source": [
    "- Much better accuracy of the model vs baseline accuracy\n",
    "- AUC is near 1, which means that the model is much better than random chance"
   ]
  },
  {
   "cell_type": "markdown",
   "metadata": {
    "id": "tFgizytIy143"
   },
   "source": [
    "7. Without estimates of the uncertainty of the performance metrics, it can be hard to make definitive conclusions about the performance of the model. Compute 95% confidence intervals for the accuracy and AUC using bootstrapping with 1000 replicates. Interpret your results."
   ]
  },
  {
   "cell_type": "code",
   "execution_count": null,
   "metadata": {
    "id": "cr4Vaxsry2la"
   },
   "outputs": [],
   "source": [
    "# Get the predicted probabilities of the test data\n",
    "yprob = logit_pipe.predict_proba(Xtest)[:, 1]\n",
    "\n",
    "# Get the predicted classes of the test data\n",
    "ypred = logit_pipe.predict(Xtest)\n",
    "\n",
    "n_bootstraps = 1000 # set the bootstraps amounts\n",
    "bootstrapped_accuracy = np.zeros(n_bootstraps)\n",
    "bootstrapped_auc = np.zeros(n_bootstraps)\n",
    "\n",
    "for i in range(n_bootstraps):\n",
    "    # Get the indices for the bootstrap sample\n",
    "    idx = np.random.choice(len(ytest), len(ytest), replace=True)\n",
    "\n",
    "    # Get the accuracy of the bootstrap sample\n",
    "    bootstrapped_accuracy[i] = accuracy_score(ytest.to_pandas().iloc[idx], ypred[idx])\n",
    "\n",
    "    # Get the AUC of the bootstrap sample\n",
    "    bootstrapped_auc[i] = roc_auc_score(ytest.to_pandas().iloc[idx], yprob[idx])\n",
    "    \n",
    "# Get the differences between the bootstrapped values and the original values\n",
    "accuracy_diff = bootstrapped_accuracy - accuracy\n",
    "auc_diff = bootstrapped_auc - auc\n",
    "\n",
    "# Calculate the 95% confidence interval for the accuracy and AUC\n",
    "accuracy_ci = np.percentile(accuracy_diff, [2.5, 97.5])\n",
    "auc_ci = np.percentile(auc_diff, [2.5, 97.5])\n",
    "\n",
    "# Show the ci bounds\n",
    "print(accuracy_ci)\n",
    "print(auc_ci)"
   ]
  },
  {
   "cell_type": "code",
   "execution_count": null,
   "metadata": {
    "id": "bYuUSnj4zRCz"
   },
   "outputs": [],
   "source": []
  },
  {
   "cell_type": "markdown",
   "metadata": {
    "id": "Wxiy5SdXztLC"
   },
   "source": []
  },
  {
   "cell_type": "markdown",
   "metadata": {
    "id": "C1Q_m8y2J-Nv"
   },
   "source": [
    "8. Plot the distribution of the accuracy and AUC using histograms. Make sure to provide a title and axes labels for your plots. Add a red vertical line representing the mean of accuracy and AUC."
   ]
  },
  {
   "cell_type": "code",
   "execution_count": null,
   "metadata": {
    "id": "H-jG2Z_sJ-rL"
   },
   "outputs": [],
   "source": []
  },
  {
   "cell_type": "code",
   "execution_count": null,
   "metadata": {
    "id": "nQHgBLMjKLC8"
   },
   "outputs": [],
   "source": []
  },
  {
   "cell_type": "markdown",
   "metadata": {
    "id": "HoP1pP6l5L4h"
   },
   "source": [
    "9. Compute 95% confidence intervals for the accuracy and AUC using repeated cross-validation. Use 10 splits and 100 repetitions with a random state of 0. Compare your results to what you obtained using bootstrapping. Which method provides better confidence intervals in this case?"
   ]
  },
  {
   "cell_type": "code",
   "execution_count": null,
   "metadata": {
    "id": "uSeWUQTZ5MDe"
   },
   "outputs": [],
   "source": []
  },
  {
   "cell_type": "code",
   "execution_count": null,
   "metadata": {
    "id": "oCdmGJYM5fjm"
   },
   "outputs": [],
   "source": []
  },
  {
   "cell_type": "markdown",
   "metadata": {
    "id": "-z893LWUjNW_"
   },
   "source": []
  },
  {
   "cell_type": "markdown",
   "metadata": {
    "id": "XqvhSwBM8riL"
   },
   "source": [
    "10. Using your cross-validation results, compute a 95% confidence interval for each coefficient in the model. Which feature(s) might you remove based on this?"
   ]
  },
  {
   "cell_type": "code",
   "execution_count": null,
   "metadata": {
    "id": "ULcmyhK48t9v"
   },
   "outputs": [],
   "source": []
  },
  {
   "cell_type": "markdown",
   "metadata": {
    "id": "PDhYQMGNG_kt"
   },
   "source": []
  },
  {
   "cell_type": "markdown",
   "metadata": {
    "id": "6ZvnP0Wc81Og"
   },
   "source": [
    "11. Fit your logistic regression model like before but remove the feature(s) you indentified in Q10. Plot the ROC curve of the model over the test set and annotate it with the AUC of the model."
   ]
  },
  {
   "cell_type": "code",
   "execution_count": null,
   "metadata": {
    "id": "h506WTyw8xIq"
   },
   "outputs": [],
   "source": []
  },
  {
   "cell_type": "code",
   "execution_count": null,
   "metadata": {
    "id": "8w5t968Fwnus"
   },
   "outputs": [],
   "source": []
  },
  {
   "cell_type": "markdown",
   "metadata": {
    "id": "_FHVaoRi80ZK"
   },
   "source": [
    "12. Calculate the uncertainty for the prediction of the first testing patient.  Plot a histogram of the different predictions. Give the plot a title and axes labels. Add a red vertical line representing the mean of the predictions.\n",
    "\n",
    "Hint: If you need to stack a list of arrays, you can use [np.hstack(list)](https://numpy.org/doc/stable/reference/generated/numpy.hstack.html)."
   ]
  },
  {
   "cell_type": "code",
   "execution_count": null,
   "metadata": {
    "id": "vbyP6_ssNOh4"
   },
   "outputs": [],
   "source": []
  },
  {
   "cell_type": "code",
   "execution_count": null,
   "metadata": {
    "id": "uvaPzSUhO98k"
   },
   "outputs": [],
   "source": []
  }
 ],
 "metadata": {
  "colab": {
   "provenance": [
    {
     "file_id": "1r6zBj_Yo7hGra8A8swFbHVY4UvFb5vjQ",
     "timestamp": 1738079020338
    },
    {
     "file_id": "1cuCZODCO2UhPt2wQyzt3tcO6y3iRO0QD",
     "timestamp": 1736827747029
    },
    {
     "file_id": "11M2GDQXAjsFjjVRuWaGQlFLrunfq_gmO",
     "timestamp": 1736730198357
    }
   ]
  },
  "kernelspec": {
   "display_name": "Python 3",
   "language": "python",
   "name": "python3"
  },
  "language_info": {
   "codemirror_mode": {
    "name": "ipython",
    "version": 3
   },
   "file_extension": ".py",
   "mimetype": "text/x-python",
   "name": "python",
   "nbconvert_exporter": "python",
   "pygments_lexer": "ipython3",
   "version": "3.10.11"
  }
 },
 "nbformat": 4,
 "nbformat_minor": 0
}
