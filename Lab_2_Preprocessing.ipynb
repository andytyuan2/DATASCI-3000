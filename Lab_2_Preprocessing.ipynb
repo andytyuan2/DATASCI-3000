{
  "cells": [
    {
      "cell_type": "markdown",
      "metadata": {
        "id": "twKpLeRhDeyQ"
      },
      "source": [
        "# Data Preprocessing\n",
        "\n",
        "In this lab, we will set up a **data pipeline** in order to leave the data ready for analysis. Data preprocessing tends to be, by far, the most time-consuming step of the data science process. Errors in this step propagate to the model, so it is really important we do this correctly.\n",
        "\n",
        "The goal of this step is to leave the date ready to apply models to it.\n",
        "\n",
        "Every problem has its own set of data preprocessing functions to apply it to, but we will focus on the ones most common in classification models. In general we want to:\n",
        "\n",
        "1. Eliminate redundant variables.\n",
        "2. Treat null values.\n",
        "3. Treat outliers.\n",
        "4. Remove correlated features (which we will do later in the course).\n",
        "\n",
        "For this goal we will use the excellent [```scikit-learn```](https://scikit-learn.org/stable/) package, which comes with most data-intensive operations. We will also use today (and during the rest of the module) the [```pandas```](https://pandas.pydata.org/) package, which allows for data handling in general. Let's start by importing the packages we will use."
      ]
    },
    {
      "cell_type": "code",
      "execution_count": 1,
      "metadata": {
        "id": "zJdm6Uxlq-kc"
      },
      "outputs": [],
      "source": [
        "import pandas as pd\n",
        "import matplotlib.pyplot as plt\n",
        "import seaborn as sns\n",
        "import numpy as np\n",
        "%matplotlib inline\n",
        "\n",
        "from scipy.stats import zscore"
      ]
    },
    {
      "cell_type": "markdown",
      "metadata": {
        "id": "tTKdVYZLGm-b"
      },
      "source": [
        "## Reading the data\n",
        "\n",
        "Let's download the data. This is a tradtional dataset by IBM with loans granted in the 90s. It has the following variables:\n",
        "\n",
        "- Customer: ID, or unique label, of the borrower (NOT predictive).\n",
        "- Age: Age of the borrower in years.\n",
        "- Education: Maximum education level the borrower reached.\n",
        "1: Complete primary. 2: Completed Secondary. 3: Incomplete Higher Ed. 4: Complete Higher Ed. 5: With postgraduate studies (complete MSc or PhD).\n",
        "- Employ: Years at current job.\n",
        "- Address: Years at current address.\n",
        "- Income: Income in ‘000s USD.\n",
        "- Leverage: Debt/Income Ratio.\n",
        "- CredDebt: Credit card standing debt.\n",
        "- OthDebt: Other debt in ‘000s USD.\n",
        "- MonthlyLoad: Monthly percentage from salary used to repay debts.\n",
        "- Default: 1 If default has occurred, 0 if not (Target variable).\n",
        "\n",
        "Instead of using gdown, we will download it now directly from a link, using the more ubiquitous [```wget```](http://www.gnu.org/software/wget/) command. The command is\n",
        "\n",
        "```\n",
        "wget [-options] path\n",
        "```\n",
        "\n",
        "We need to add the options ```--no-check-certificate``` and ```--output-document=FILENAME``` so it downloads ok."
      ]
    },
    {
      "cell_type": "code",
      "execution_count": 2,
      "metadata": {
        "id": "g3v98YWoGla0",
        "outputId": "c997cc28-9543-4371-d423-3681ffb57a54",
        "colab": {
          "base_uri": "https://localhost:8080/"
        }
      },
      "outputs": [
        {
          "output_type": "stream",
          "name": "stdout",
          "text": [
            "--2025-01-16 22:09:46--  https://docs.google.com/spreadsheets/d/1nUJ1fA5f1VeMvulknpsvxpy0GW3CekNnhgeLRK0WlDI/export?gid=1016776666&format=csv\n",
            "Resolving docs.google.com (docs.google.com)... 74.125.196.102, 74.125.196.138, 74.125.196.101, ...\n",
            "Connecting to docs.google.com (docs.google.com)|74.125.196.102|:443... connected.\n",
            "HTTP request sent, awaiting response... 307 Temporary Redirect\n",
            "Location: https://doc-0o-8s-sheets.googleusercontent.com/export/54bogvaave6cua4cdnls17ksc4/eg5vtp3d3a155k4no96vnbetvs/1737065385000/102123285539774178265/*/1nUJ1fA5f1VeMvulknpsvxpy0GW3CekNnhgeLRK0WlDI?gid=1016776666&format=csv [following]\n",
            "Warning: wildcards not supported in HTTP.\n",
            "--2025-01-16 22:09:46--  https://doc-0o-8s-sheets.googleusercontent.com/export/54bogvaave6cua4cdnls17ksc4/eg5vtp3d3a155k4no96vnbetvs/1737065385000/102123285539774178265/*/1nUJ1fA5f1VeMvulknpsvxpy0GW3CekNnhgeLRK0WlDI?gid=1016776666&format=csv\n",
            "Resolving doc-0o-8s-sheets.googleusercontent.com (doc-0o-8s-sheets.googleusercontent.com)... 172.217.204.132, 2607:f8b0:400c:c15::84\n",
            "Connecting to doc-0o-8s-sheets.googleusercontent.com (doc-0o-8s-sheets.googleusercontent.com)|172.217.204.132|:443... connected.\n",
            "HTTP request sent, awaiting response... 200 OK\n",
            "Length: unspecified [text/csv]\n",
            "Saving to: ‘Bankloan.csv’\n",
            "\n",
            "Bankloan.csv            [ <=>                ]  65.50K  --.-KB/s    in 0.008s  \n",
            "\n",
            "2025-01-16 22:09:46 (7.55 MB/s) - ‘Bankloan.csv’ saved [67077]\n",
            "\n"
          ]
        }
      ],
      "source": [
        "!wget --no-check-certificate --output-document=Bankloan.csv 'https://docs.google.com/spreadsheets/d/1nUJ1fA5f1VeMvulknpsvxpy0GW3CekNnhgeLRK0WlDI/export?gid=1016776666&format=csv'"
      ]
    },
    {
      "cell_type": "markdown",
      "metadata": {
        "id": "_ExNpn4rMwfT"
      },
      "source": [
        "To check what we downloaded we can use the ```head``` OS command."
      ]
    },
    {
      "cell_type": "code",
      "execution_count": 3,
      "metadata": {
        "id": "oz4xRtSDM20o",
        "outputId": "ee1b70ae-2602-49dc-d319-00d32b74e47f",
        "colab": {
          "base_uri": "https://localhost:8080/"
        }
      },
      "outputs": [
        {
          "output_type": "stream",
          "name": "stdout",
          "text": [
            "customer,Age,Education,Employ,Address,Income,Leverage,Creddebt,OthDebt,MonthlyLoad,Default\r\n",
            "10012,28,Med,7,2,44,17.7,2.99,4.8,0.58,0\r\n",
            "10017,64,Posg,34,17,116,14.7,5.05,12,0.27,0\r\n",
            "10030,40,Bas,20,12,61,4.8,1.04,1.89,0.13,0\r\n",
            "10039,30,Bas,11,3,27,34.5,1.75,7.56,1.62,0\r\n",
            "10069,25,Bas,2,2,30,22.4,0.76,5.96,0.97,1\r\n",
            "10071,35,Bas,2,9,38,10.9,1.46,2.68,0.4,1\r\n",
            "10096,26,SupInc,2,4,38,11.9,0.95,3.57,0.43,1\r\n",
            "10128,25,Bas,4,2,30,14.4,1.05,3.27,0.62,0\r\n",
            "10129,65,SupCom,29,14,189,5,3.36,6.09,0.08,0\r\n"
          ]
        }
      ],
      "source": [
        "!head Bankloan.csv"
      ]
    },
    {
      "cell_type": "markdown",
      "metadata": {
        "id": "k5sgZk3lMtIK"
      },
      "source": [
        "Now we will use Pandas to read the CSV file. The  function to do so is [```read_csv```](https://pandas.pydata.org/pandas-docs/stable/reference/api/pandas.read_csv.html). We will store the results in a variable named ```bankloan_data```."
      ]
    },
    {
      "cell_type": "code",
      "execution_count": 4,
      "metadata": {
        "id": "Wj-Yl2t5JW0Y"
      },
      "outputs": [],
      "source": [
        "bankloan_data = pd.read_csv('Bankloan.csv')"
      ]
    },
    {
      "cell_type": "markdown",
      "metadata": {
        "id": "i2A_hACkDcxY"
      },
      "source": [
        "As a reminder, the function `describe()` gives the summary statistics of the variables."
      ]
    },
    {
      "cell_type": "code",
      "execution_count": 5,
      "metadata": {
        "id": "XpypXLF6Nm9B",
        "outputId": "2b222824-f793-4899-c6a8-dba1045b38fc",
        "colab": {
          "base_uri": "https://localhost:8080/",
          "height": 300
        }
      },
      "outputs": [
        {
          "output_type": "execute_result",
          "data": {
            "text/plain": [
              "            customer          Age       Employ      Address       Income  \\\n",
              "count    1500.000000  1500.000000  1500.000000  1499.000000  1499.000000   \n",
              "mean   257714.548000    34.174000     6.952000     6.309540    59.615077   \n",
              "std    139555.147719    13.142306     8.977644     6.047563    67.144768   \n",
              "min     10012.000000    18.000000     0.000000     0.000000    12.000000   \n",
              "25%     98638.750000    24.000000     0.000000     2.000000    27.000000   \n",
              "50%    315991.500000    31.000000     4.000000     5.000000    40.000000   \n",
              "75%    370701.500000    42.000000    10.000000     9.000000    64.000000   \n",
              "max    453777.000000    79.000000    63.000000    34.000000  1079.000000   \n",
              "\n",
              "            Leverage     Creddebt      OthDebt  MonthlyLoad      Default  \n",
              "count    1499.000000  1499.000000  1489.000000  1500.000000  1500.000000  \n",
              "mean      677.046631     1.936197     3.872257     0.365447     0.365333  \n",
              "std     25828.218141     2.974485     5.343150     0.293937     0.481684  \n",
              "min         0.100000     0.000000     0.100000     0.000000     0.000000  \n",
              "25%         4.800000     0.420000     1.120000     0.150000     0.000000  \n",
              "50%         8.500000     0.990000     2.240000     0.290000     0.000000  \n",
              "75%        13.600000     2.200000     4.610000     0.500000     1.000000  \n",
              "max    999999.000000    35.970000    63.470000     2.150000     1.000000  "
            ],
            "text/html": [
              "\n",
              "  <div id=\"df-f3fc17ad-e7ad-40ba-ae93-5a95b160e354\" class=\"colab-df-container\">\n",
              "    <div>\n",
              "<style scoped>\n",
              "    .dataframe tbody tr th:only-of-type {\n",
              "        vertical-align: middle;\n",
              "    }\n",
              "\n",
              "    .dataframe tbody tr th {\n",
              "        vertical-align: top;\n",
              "    }\n",
              "\n",
              "    .dataframe thead th {\n",
              "        text-align: right;\n",
              "    }\n",
              "</style>\n",
              "<table border=\"1\" class=\"dataframe\">\n",
              "  <thead>\n",
              "    <tr style=\"text-align: right;\">\n",
              "      <th></th>\n",
              "      <th>customer</th>\n",
              "      <th>Age</th>\n",
              "      <th>Employ</th>\n",
              "      <th>Address</th>\n",
              "      <th>Income</th>\n",
              "      <th>Leverage</th>\n",
              "      <th>Creddebt</th>\n",
              "      <th>OthDebt</th>\n",
              "      <th>MonthlyLoad</th>\n",
              "      <th>Default</th>\n",
              "    </tr>\n",
              "  </thead>\n",
              "  <tbody>\n",
              "    <tr>\n",
              "      <th>count</th>\n",
              "      <td>1500.000000</td>\n",
              "      <td>1500.000000</td>\n",
              "      <td>1500.000000</td>\n",
              "      <td>1499.000000</td>\n",
              "      <td>1499.000000</td>\n",
              "      <td>1499.000000</td>\n",
              "      <td>1499.000000</td>\n",
              "      <td>1489.000000</td>\n",
              "      <td>1500.000000</td>\n",
              "      <td>1500.000000</td>\n",
              "    </tr>\n",
              "    <tr>\n",
              "      <th>mean</th>\n",
              "      <td>257714.548000</td>\n",
              "      <td>34.174000</td>\n",
              "      <td>6.952000</td>\n",
              "      <td>6.309540</td>\n",
              "      <td>59.615077</td>\n",
              "      <td>677.046631</td>\n",
              "      <td>1.936197</td>\n",
              "      <td>3.872257</td>\n",
              "      <td>0.365447</td>\n",
              "      <td>0.365333</td>\n",
              "    </tr>\n",
              "    <tr>\n",
              "      <th>std</th>\n",
              "      <td>139555.147719</td>\n",
              "      <td>13.142306</td>\n",
              "      <td>8.977644</td>\n",
              "      <td>6.047563</td>\n",
              "      <td>67.144768</td>\n",
              "      <td>25828.218141</td>\n",
              "      <td>2.974485</td>\n",
              "      <td>5.343150</td>\n",
              "      <td>0.293937</td>\n",
              "      <td>0.481684</td>\n",
              "    </tr>\n",
              "    <tr>\n",
              "      <th>min</th>\n",
              "      <td>10012.000000</td>\n",
              "      <td>18.000000</td>\n",
              "      <td>0.000000</td>\n",
              "      <td>0.000000</td>\n",
              "      <td>12.000000</td>\n",
              "      <td>0.100000</td>\n",
              "      <td>0.000000</td>\n",
              "      <td>0.100000</td>\n",
              "      <td>0.000000</td>\n",
              "      <td>0.000000</td>\n",
              "    </tr>\n",
              "    <tr>\n",
              "      <th>25%</th>\n",
              "      <td>98638.750000</td>\n",
              "      <td>24.000000</td>\n",
              "      <td>0.000000</td>\n",
              "      <td>2.000000</td>\n",
              "      <td>27.000000</td>\n",
              "      <td>4.800000</td>\n",
              "      <td>0.420000</td>\n",
              "      <td>1.120000</td>\n",
              "      <td>0.150000</td>\n",
              "      <td>0.000000</td>\n",
              "    </tr>\n",
              "    <tr>\n",
              "      <th>50%</th>\n",
              "      <td>315991.500000</td>\n",
              "      <td>31.000000</td>\n",
              "      <td>4.000000</td>\n",
              "      <td>5.000000</td>\n",
              "      <td>40.000000</td>\n",
              "      <td>8.500000</td>\n",
              "      <td>0.990000</td>\n",
              "      <td>2.240000</td>\n",
              "      <td>0.290000</td>\n",
              "      <td>0.000000</td>\n",
              "    </tr>\n",
              "    <tr>\n",
              "      <th>75%</th>\n",
              "      <td>370701.500000</td>\n",
              "      <td>42.000000</td>\n",
              "      <td>10.000000</td>\n",
              "      <td>9.000000</td>\n",
              "      <td>64.000000</td>\n",
              "      <td>13.600000</td>\n",
              "      <td>2.200000</td>\n",
              "      <td>4.610000</td>\n",
              "      <td>0.500000</td>\n",
              "      <td>1.000000</td>\n",
              "    </tr>\n",
              "    <tr>\n",
              "      <th>max</th>\n",
              "      <td>453777.000000</td>\n",
              "      <td>79.000000</td>\n",
              "      <td>63.000000</td>\n",
              "      <td>34.000000</td>\n",
              "      <td>1079.000000</td>\n",
              "      <td>999999.000000</td>\n",
              "      <td>35.970000</td>\n",
              "      <td>63.470000</td>\n",
              "      <td>2.150000</td>\n",
              "      <td>1.000000</td>\n",
              "    </tr>\n",
              "  </tbody>\n",
              "</table>\n",
              "</div>\n",
              "    <div class=\"colab-df-buttons\">\n",
              "\n",
              "  <div class=\"colab-df-container\">\n",
              "    <button class=\"colab-df-convert\" onclick=\"convertToInteractive('df-f3fc17ad-e7ad-40ba-ae93-5a95b160e354')\"\n",
              "            title=\"Convert this dataframe to an interactive table.\"\n",
              "            style=\"display:none;\">\n",
              "\n",
              "  <svg xmlns=\"http://www.w3.org/2000/svg\" height=\"24px\" viewBox=\"0 -960 960 960\">\n",
              "    <path d=\"M120-120v-720h720v720H120Zm60-500h600v-160H180v160Zm220 220h160v-160H400v160Zm0 220h160v-160H400v160ZM180-400h160v-160H180v160Zm440 0h160v-160H620v160ZM180-180h160v-160H180v160Zm440 0h160v-160H620v160Z\"/>\n",
              "  </svg>\n",
              "    </button>\n",
              "\n",
              "  <style>\n",
              "    .colab-df-container {\n",
              "      display:flex;\n",
              "      gap: 12px;\n",
              "    }\n",
              "\n",
              "    .colab-df-convert {\n",
              "      background-color: #E8F0FE;\n",
              "      border: none;\n",
              "      border-radius: 50%;\n",
              "      cursor: pointer;\n",
              "      display: none;\n",
              "      fill: #1967D2;\n",
              "      height: 32px;\n",
              "      padding: 0 0 0 0;\n",
              "      width: 32px;\n",
              "    }\n",
              "\n",
              "    .colab-df-convert:hover {\n",
              "      background-color: #E2EBFA;\n",
              "      box-shadow: 0px 1px 2px rgba(60, 64, 67, 0.3), 0px 1px 3px 1px rgba(60, 64, 67, 0.15);\n",
              "      fill: #174EA6;\n",
              "    }\n",
              "\n",
              "    .colab-df-buttons div {\n",
              "      margin-bottom: 4px;\n",
              "    }\n",
              "\n",
              "    [theme=dark] .colab-df-convert {\n",
              "      background-color: #3B4455;\n",
              "      fill: #D2E3FC;\n",
              "    }\n",
              "\n",
              "    [theme=dark] .colab-df-convert:hover {\n",
              "      background-color: #434B5C;\n",
              "      box-shadow: 0px 1px 3px 1px rgba(0, 0, 0, 0.15);\n",
              "      filter: drop-shadow(0px 1px 2px rgba(0, 0, 0, 0.3));\n",
              "      fill: #FFFFFF;\n",
              "    }\n",
              "  </style>\n",
              "\n",
              "    <script>\n",
              "      const buttonEl =\n",
              "        document.querySelector('#df-f3fc17ad-e7ad-40ba-ae93-5a95b160e354 button.colab-df-convert');\n",
              "      buttonEl.style.display =\n",
              "        google.colab.kernel.accessAllowed ? 'block' : 'none';\n",
              "\n",
              "      async function convertToInteractive(key) {\n",
              "        const element = document.querySelector('#df-f3fc17ad-e7ad-40ba-ae93-5a95b160e354');\n",
              "        const dataTable =\n",
              "          await google.colab.kernel.invokeFunction('convertToInteractive',\n",
              "                                                    [key], {});\n",
              "        if (!dataTable) return;\n",
              "\n",
              "        const docLinkHtml = 'Like what you see? Visit the ' +\n",
              "          '<a target=\"_blank\" href=https://colab.research.google.com/notebooks/data_table.ipynb>data table notebook</a>'\n",
              "          + ' to learn more about interactive tables.';\n",
              "        element.innerHTML = '';\n",
              "        dataTable['output_type'] = 'display_data';\n",
              "        await google.colab.output.renderOutput(dataTable, element);\n",
              "        const docLink = document.createElement('div');\n",
              "        docLink.innerHTML = docLinkHtml;\n",
              "        element.appendChild(docLink);\n",
              "      }\n",
              "    </script>\n",
              "  </div>\n",
              "\n",
              "\n",
              "<div id=\"df-4f90ff29-4022-4fbc-8c09-085a98268125\">\n",
              "  <button class=\"colab-df-quickchart\" onclick=\"quickchart('df-4f90ff29-4022-4fbc-8c09-085a98268125')\"\n",
              "            title=\"Suggest charts\"\n",
              "            style=\"display:none;\">\n",
              "\n",
              "<svg xmlns=\"http://www.w3.org/2000/svg\" height=\"24px\"viewBox=\"0 0 24 24\"\n",
              "     width=\"24px\">\n",
              "    <g>\n",
              "        <path d=\"M19 3H5c-1.1 0-2 .9-2 2v14c0 1.1.9 2 2 2h14c1.1 0 2-.9 2-2V5c0-1.1-.9-2-2-2zM9 17H7v-7h2v7zm4 0h-2V7h2v10zm4 0h-2v-4h2v4z\"/>\n",
              "    </g>\n",
              "</svg>\n",
              "  </button>\n",
              "\n",
              "<style>\n",
              "  .colab-df-quickchart {\n",
              "      --bg-color: #E8F0FE;\n",
              "      --fill-color: #1967D2;\n",
              "      --hover-bg-color: #E2EBFA;\n",
              "      --hover-fill-color: #174EA6;\n",
              "      --disabled-fill-color: #AAA;\n",
              "      --disabled-bg-color: #DDD;\n",
              "  }\n",
              "\n",
              "  [theme=dark] .colab-df-quickchart {\n",
              "      --bg-color: #3B4455;\n",
              "      --fill-color: #D2E3FC;\n",
              "      --hover-bg-color: #434B5C;\n",
              "      --hover-fill-color: #FFFFFF;\n",
              "      --disabled-bg-color: #3B4455;\n",
              "      --disabled-fill-color: #666;\n",
              "  }\n",
              "\n",
              "  .colab-df-quickchart {\n",
              "    background-color: var(--bg-color);\n",
              "    border: none;\n",
              "    border-radius: 50%;\n",
              "    cursor: pointer;\n",
              "    display: none;\n",
              "    fill: var(--fill-color);\n",
              "    height: 32px;\n",
              "    padding: 0;\n",
              "    width: 32px;\n",
              "  }\n",
              "\n",
              "  .colab-df-quickchart:hover {\n",
              "    background-color: var(--hover-bg-color);\n",
              "    box-shadow: 0 1px 2px rgba(60, 64, 67, 0.3), 0 1px 3px 1px rgba(60, 64, 67, 0.15);\n",
              "    fill: var(--button-hover-fill-color);\n",
              "  }\n",
              "\n",
              "  .colab-df-quickchart-complete:disabled,\n",
              "  .colab-df-quickchart-complete:disabled:hover {\n",
              "    background-color: var(--disabled-bg-color);\n",
              "    fill: var(--disabled-fill-color);\n",
              "    box-shadow: none;\n",
              "  }\n",
              "\n",
              "  .colab-df-spinner {\n",
              "    border: 2px solid var(--fill-color);\n",
              "    border-color: transparent;\n",
              "    border-bottom-color: var(--fill-color);\n",
              "    animation:\n",
              "      spin 1s steps(1) infinite;\n",
              "  }\n",
              "\n",
              "  @keyframes spin {\n",
              "    0% {\n",
              "      border-color: transparent;\n",
              "      border-bottom-color: var(--fill-color);\n",
              "      border-left-color: var(--fill-color);\n",
              "    }\n",
              "    20% {\n",
              "      border-color: transparent;\n",
              "      border-left-color: var(--fill-color);\n",
              "      border-top-color: var(--fill-color);\n",
              "    }\n",
              "    30% {\n",
              "      border-color: transparent;\n",
              "      border-left-color: var(--fill-color);\n",
              "      border-top-color: var(--fill-color);\n",
              "      border-right-color: var(--fill-color);\n",
              "    }\n",
              "    40% {\n",
              "      border-color: transparent;\n",
              "      border-right-color: var(--fill-color);\n",
              "      border-top-color: var(--fill-color);\n",
              "    }\n",
              "    60% {\n",
              "      border-color: transparent;\n",
              "      border-right-color: var(--fill-color);\n",
              "    }\n",
              "    80% {\n",
              "      border-color: transparent;\n",
              "      border-right-color: var(--fill-color);\n",
              "      border-bottom-color: var(--fill-color);\n",
              "    }\n",
              "    90% {\n",
              "      border-color: transparent;\n",
              "      border-bottom-color: var(--fill-color);\n",
              "    }\n",
              "  }\n",
              "</style>\n",
              "\n",
              "  <script>\n",
              "    async function quickchart(key) {\n",
              "      const quickchartButtonEl =\n",
              "        document.querySelector('#' + key + ' button');\n",
              "      quickchartButtonEl.disabled = true;  // To prevent multiple clicks.\n",
              "      quickchartButtonEl.classList.add('colab-df-spinner');\n",
              "      try {\n",
              "        const charts = await google.colab.kernel.invokeFunction(\n",
              "            'suggestCharts', [key], {});\n",
              "      } catch (error) {\n",
              "        console.error('Error during call to suggestCharts:', error);\n",
              "      }\n",
              "      quickchartButtonEl.classList.remove('colab-df-spinner');\n",
              "      quickchartButtonEl.classList.add('colab-df-quickchart-complete');\n",
              "    }\n",
              "    (() => {\n",
              "      let quickchartButtonEl =\n",
              "        document.querySelector('#df-4f90ff29-4022-4fbc-8c09-085a98268125 button');\n",
              "      quickchartButtonEl.style.display =\n",
              "        google.colab.kernel.accessAllowed ? 'block' : 'none';\n",
              "    })();\n",
              "  </script>\n",
              "</div>\n",
              "\n",
              "    </div>\n",
              "  </div>\n"
            ],
            "application/vnd.google.colaboratory.intrinsic+json": {
              "type": "dataframe",
              "summary": "{\n  \"name\": \"bankloan_data\",\n  \"rows\": 8,\n  \"fields\": [\n    {\n      \"column\": \"customer\",\n      \"properties\": {\n        \"dtype\": \"number\",\n        \"std\": 168804.8118044072,\n        \"min\": 1500.0,\n        \"max\": 453777.0,\n        \"num_unique_values\": 8,\n        \"samples\": [\n          257714.548,\n          315991.5,\n          1500.0\n        ],\n        \"semantic_type\": \"\",\n        \"description\": \"\"\n      }\n    },\n    {\n      \"column\": \"Age\",\n      \"properties\": {\n        \"dtype\": \"number\",\n        \"std\": 518.5396765140189,\n        \"min\": 13.142305891132315,\n        \"max\": 1500.0,\n        \"num_unique_values\": 8,\n        \"samples\": [\n          34.174,\n          31.0,\n          1500.0\n        ],\n        \"semantic_type\": \"\",\n        \"description\": \"\"\n      }\n    },\n    {\n      \"column\": \"Employ\",\n      \"properties\": {\n        \"dtype\": \"number\",\n        \"std\": 526.0412561213097,\n        \"min\": 0.0,\n        \"max\": 1500.0,\n        \"num_unique_values\": 7,\n        \"samples\": [\n          1500.0,\n          6.952,\n          10.0\n        ],\n        \"semantic_type\": \"\",\n        \"description\": \"\"\n      }\n    },\n    {\n      \"column\": \"Address\",\n      \"properties\": {\n        \"dtype\": \"number\",\n        \"std\": 526.933701875383,\n        \"min\": 0.0,\n        \"max\": 1499.0,\n        \"num_unique_values\": 8,\n        \"samples\": [\n          6.309539693128753,\n          5.0,\n          1499.0\n        ],\n        \"semantic_type\": \"\",\n        \"description\": \"\"\n      }\n    },\n    {\n      \"column\": \"Income\",\n      \"properties\": {\n        \"dtype\": \"number\",\n        \"std\": 587.0210948730854,\n        \"min\": 12.0,\n        \"max\": 1499.0,\n        \"num_unique_values\": 8,\n        \"samples\": [\n          59.615076717811874,\n          40.0,\n          1499.0\n        ],\n        \"semantic_type\": \"\",\n        \"description\": \"\"\n      }\n    },\n    {\n      \"column\": \"Leverage\",\n      \"properties\": {\n        \"dtype\": \"number\",\n        \"std\": 352250.3217814285,\n        \"min\": 0.1,\n        \"max\": 999999.0,\n        \"num_unique_values\": 8,\n        \"samples\": [\n          677.0466310873917,\n          8.5,\n          1499.0\n        ],\n        \"semantic_type\": \"\",\n        \"description\": \"\"\n      }\n    },\n    {\n      \"column\": \"Creddebt\",\n      \"properties\": {\n        \"dtype\": \"number\",\n        \"std\": 527.8687604732389,\n        \"min\": 0.0,\n        \"max\": 1499.0,\n        \"num_unique_values\": 8,\n        \"samples\": [\n          1.9361974649766511,\n          0.99,\n          1499.0\n        ],\n        \"semantic_type\": \"\",\n        \"description\": \"\"\n      }\n    },\n    {\n      \"column\": \"OthDebt\",\n      \"properties\": {\n        \"dtype\": \"number\",\n        \"std\": 522.7952363624105,\n        \"min\": 0.1,\n        \"max\": 1489.0,\n        \"num_unique_values\": 8,\n        \"samples\": [\n          3.872256548018804,\n          2.24,\n          1489.0\n        ],\n        \"semantic_type\": \"\",\n        \"description\": \"\"\n      }\n    },\n    {\n      \"column\": \"MonthlyLoad\",\n      \"properties\": {\n        \"dtype\": \"number\",\n        \"std\": 530.1411433413381,\n        \"min\": 0.0,\n        \"max\": 1500.0,\n        \"num_unique_values\": 8,\n        \"samples\": [\n          0.3654466666666667,\n          0.29,\n          1500.0\n        ],\n        \"semantic_type\": \"\",\n        \"description\": \"\"\n      }\n    },\n    {\n      \"column\": \"Default\",\n      \"properties\": {\n        \"dtype\": \"number\",\n        \"std\": 530.1864524813592,\n        \"min\": 0.0,\n        \"max\": 1500.0,\n        \"num_unique_values\": 5,\n        \"samples\": [\n          0.36533333333333334,\n          1.0,\n          0.48168409627190667\n        ],\n        \"semantic_type\": \"\",\n        \"description\": \"\"\n      }\n    }\n  ]\n}"
            }
          },
          "metadata": {},
          "execution_count": 5
        }
      ],
      "source": [
        "bankloan_data.describe()"
      ]
    },
    {
      "cell_type": "code",
      "execution_count": 6,
      "metadata": {
        "id": "wcp4xeZwpuqi",
        "outputId": "77c4673b-3f0c-43f4-ad25-504362e74b8c",
        "colab": {
          "base_uri": "https://localhost:8080/"
        }
      },
      "outputs": [
        {
          "output_type": "execute_result",
          "data": {
            "text/plain": [
              "Index(['customer', 'Age', 'Education', 'Employ', 'Address', 'Income',\n",
              "       'Leverage', 'Creddebt', 'OthDebt', 'MonthlyLoad', 'Default'],\n",
              "      dtype='object')"
            ]
          },
          "metadata": {},
          "execution_count": 6
        }
      ],
      "source": [
        "bankloan_data.columns"
      ]
    },
    {
      "cell_type": "markdown",
      "metadata": {
        "id": "-m5-Xr8lP5Gm"
      },
      "source": [
        "We can see there are a few null values in different variables and apparently an invalid outlier in Leverage.  Let's visualize the dataset using seaborn to get an idea of the distribution."
      ]
    },
    {
      "cell_type": "code",
      "execution_count": 7,
      "metadata": {
        "id": "Oc-0gLkpPTgu",
        "outputId": "712ce78d-387e-48d8-a028-a31dc187a623",
        "colab": {
          "base_uri": "https://localhost:8080/",
          "height": 1000
        }
      },
      "outputs": [
        {
          "output_type": "display_data",
          "data": {
            "text/plain": [
              "<Figure size 572.972x500 with 1 Axes>"
            ],
            "image/png": "[encoded data removed]"
          },
          "metadata": {}
        },
        {
          "output_type": "display_data",
          "data": {
            "text/plain": [
              "<Figure size 572.972x500 with 1 Axes>"
            ],
            "image/png": "[encoded data removed]"
          },
          "metadata": {}
        },
        {
          "output_type": "display_data",
          "data": {
            "text/plain": [
              "<Figure size 572.972x500 with 1 Axes>"
            ],
            "image/png": "[encoded data removed]"
          },
          "metadata": {}
        },
        {
          "output_type": "display_data",
          "data": {
            "text/plain": [
              "<Figure size 572.972x500 with 1 Axes>"
            ],
            "image/png": "[encoded data removed]"
          },
          "metadata": {}
        },
        {
          "output_type": "display_data",
          "data": {
            "text/plain": [
              "<Figure size 572.972x500 with 1 Axes>"
            ],
            "image/png": "[encoded data removed]"
          },
          "metadata": {}
        },
        {
          "output_type": "display_data",
          "data": {
            "text/plain": [
              "<Figure size 572.972x500 with 1 Axes>"
            ],
            "image/png": "[encoded data removed]"
          },
          "metadata": {}
        },
        {
          "output_type": "display_data",
          "data": {
            "text/plain": [
              "<Figure size 572.972x500 with 1 Axes>"
            ],
            "image/png": "[encoded data removed]"
          },
          "metadata": {}
        }
      ],
      "source": [
        "# Set the theme of the plots\n",
        "sns.set_theme(color_codes=True)\n",
        "\n",
        "# Plot the distribution of the columns. Ignore the warning, it is internal to seaborn\n",
        "for col_id in bankloan_data.columns[np.r_[1,3:9]]:\n",
        "    sns.displot(data = bankloan_data, x = col_id, hue = \"Default\", kind = 'kde')"
      ]
    },
    {
      "cell_type": "markdown",
      "metadata": {
        "id": "DohsQiAl0LJq"
      },
      "source": [
        "Seaborn can do many sophisticated (and aestetically pleasing)\n",
        "graphs. Go to [the Gallery](https://seaborn.pydata.org/examples/index.html) for details and example code.\n",
        "\n",
        "There are severe outliers in OthDebt, Leverage, Creddebt and Income, but we don't know which ones are valid and which invalid. We will treat these now."
      ]
    },
    {
      "cell_type": "markdown",
      "metadata": {
        "id": "HZLgIWHqSvts"
      },
      "source": [
        "## Data Cleaning\n",
        "\n",
        "Now we can focus on cleaning the data. Let's start with the easy part: removing null values. **Remember to check when an outlier is a missing value** (invalid outliers).\n",
        "\n",
        "### Null values\n",
        "\n",
        "The core function here will be Panda's [```fillna```](https://pandas.pydata.org/pandas-docs/stable/reference/api/pandas.DataFrame.fillna.html). This allows to replace all null values (represented by None or NaN in Python) by a certain value. This also allows to set what the replacement will be with the ```value``` argument. See the help for details.\n",
        "\n",
        "Remember the strategies to deal :\n",
        "\n",
        "1. Keep: If the null values are a category by themselves. In this case, replace by something meaningful.\n",
        "\n",
        "2. Delete: If the null values are too many **either by row or by column** then it is better to just drop the case or the variable.\n",
        "\n",
        "3. Replace: If there are only a few missings for the variable or the row (<1% total), replace by the  replace the null values by the **median** for continous variables, and the **mode** for categorical values.\n",
        "\n",
        "Let's study our dataset's null values. The [```isnull()```](https://pandas.pydata.org/pandas-docs/stable/reference/api/pandas.isnull.html) function returns which elements in the dataframe are null. The [```any()```](https://pandas.pydata.org/pandas-docs/stable/reference/api/pandas.DataFrame.any.html) function returns a list with whatever columns (default) or rows (passing ```axis = 1``` to the function) have any element with a boolean of true."
      ]
    },
    {
      "cell_type": "code",
      "execution_count": 8,
      "metadata": {
        "id": "z-s-kkifWlud",
        "outputId": "824e0214-098e-4ca1-c8ba-13a70eb759c8",
        "colab": {
          "base_uri": "https://localhost:8080/",
          "height": 429
        }
      },
      "outputs": [
        {
          "output_type": "execute_result",
          "data": {
            "text/plain": [
              "customer       False\n",
              "Age            False\n",
              "Education      False\n",
              "Employ         False\n",
              "Address         True\n",
              "Income          True\n",
              "Leverage        True\n",
              "Creddebt        True\n",
              "OthDebt         True\n",
              "MonthlyLoad    False\n",
              "Default        False\n",
              "dtype: bool"
            ],
            "text/html": [
              "<div>\n",
              "<style scoped>\n",
              "    .dataframe tbody tr th:only-of-type {\n",
              "        vertical-align: middle;\n",
              "    }\n",
              "\n",
              "    .dataframe tbody tr th {\n",
              "        vertical-align: top;\n",
              "    }\n",
              "\n",
              "    .dataframe thead th {\n",
              "        text-align: right;\n",
              "    }\n",
              "</style>\n",
              "<table border=\"1\" class=\"dataframe\">\n",
              "  <thead>\n",
              "    <tr style=\"text-align: right;\">\n",
              "      <th></th>\n",
              "      <th>0</th>\n",
              "    </tr>\n",
              "  </thead>\n",
              "  <tbody>\n",
              "    <tr>\n",
              "      <th>customer</th>\n",
              "      <td>False</td>\n",
              "    </tr>\n",
              "    <tr>\n",
              "      <th>Age</th>\n",
              "      <td>False</td>\n",
              "    </tr>\n",
              "    <tr>\n",
              "      <th>Education</th>\n",
              "      <td>False</td>\n",
              "    </tr>\n",
              "    <tr>\n",
              "      <th>Employ</th>\n",
              "      <td>False</td>\n",
              "    </tr>\n",
              "    <tr>\n",
              "      <th>Address</th>\n",
              "      <td>True</td>\n",
              "    </tr>\n",
              "    <tr>\n",
              "      <th>Income</th>\n",
              "      <td>True</td>\n",
              "    </tr>\n",
              "    <tr>\n",
              "      <th>Leverage</th>\n",
              "      <td>True</td>\n",
              "    </tr>\n",
              "    <tr>\n",
              "      <th>Creddebt</th>\n",
              "      <td>True</td>\n",
              "    </tr>\n",
              "    <tr>\n",
              "      <th>OthDebt</th>\n",
              "      <td>True</td>\n",
              "    </tr>\n",
              "    <tr>\n",
              "      <th>MonthlyLoad</th>\n",
              "      <td>False</td>\n",
              "    </tr>\n",
              "    <tr>\n",
              "      <th>Default</th>\n",
              "      <td>False</td>\n",
              "    </tr>\n",
              "  </tbody>\n",
              "</table>\n",
              "</div><br><label><b>dtype:</b> bool</label>"
            ]
          },
          "metadata": {},
          "execution_count": 8
        }
      ],
      "source": [
        "bankloan_data.isnull().any()"
      ]
    },
    {
      "cell_type": "markdown",
      "metadata": {
        "id": "H2Fp-LCjXv9s"
      },
      "source": [
        "We can see which columns have null values. Let's study them in further detail."
      ]
    },
    {
      "cell_type": "code",
      "execution_count": 9,
      "metadata": {
        "id": "Tgc0zy6UX04R",
        "outputId": "2d7db487-da34-49d4-e326-3e2bdcffbee1",
        "colab": {
          "base_uri": "https://localhost:8080/",
          "height": 241
        }
      },
      "outputs": [
        {
          "output_type": "execute_result",
          "data": {
            "text/plain": [
              "Address      1\n",
              "Income       1\n",
              "Leverage     1\n",
              "Creddebt     1\n",
              "OthDebt     11\n",
              "dtype: int64"
            ],
            "text/html": [
              "<div>\n",
              "<style scoped>\n",
              "    .dataframe tbody tr th:only-of-type {\n",
              "        vertical-align: middle;\n",
              "    }\n",
              "\n",
              "    .dataframe tbody tr th {\n",
              "        vertical-align: top;\n",
              "    }\n",
              "\n",
              "    .dataframe thead th {\n",
              "        text-align: right;\n",
              "    }\n",
              "</style>\n",
              "<table border=\"1\" class=\"dataframe\">\n",
              "  <thead>\n",
              "    <tr style=\"text-align: right;\">\n",
              "      <th></th>\n",
              "      <th>0</th>\n",
              "    </tr>\n",
              "  </thead>\n",
              "  <tbody>\n",
              "    <tr>\n",
              "      <th>Address</th>\n",
              "      <td>1</td>\n",
              "    </tr>\n",
              "    <tr>\n",
              "      <th>Income</th>\n",
              "      <td>1</td>\n",
              "    </tr>\n",
              "    <tr>\n",
              "      <th>Leverage</th>\n",
              "      <td>1</td>\n",
              "    </tr>\n",
              "    <tr>\n",
              "      <th>Creddebt</th>\n",
              "      <td>1</td>\n",
              "    </tr>\n",
              "    <tr>\n",
              "      <th>OthDebt</th>\n",
              "      <td>11</td>\n",
              "    </tr>\n",
              "  </tbody>\n",
              "</table>\n",
              "</div><br><label><b>dtype:</b> int64</label>"
            ]
          },
          "metadata": {},
          "execution_count": 9
        }
      ],
      "source": [
        "null_columns = bankloan_data.columns[bankloan_data.isnull().any()]\n",
        "bankloan_data[null_columns].isnull().sum()"
      ]
    },
    {
      "cell_type": "markdown",
      "metadata": {
        "id": "OJ7_tgqsYLhj"
      },
      "source": [
        "Given the small number of cases for all variables except OthDebt, we can simply replace those values by the median.\n",
        "\n",
        "Let's study OthDebt cases more in detail."
      ]
    },
    {
      "cell_type": "code",
      "execution_count": 10,
      "metadata": {
        "id": "9uFhZbqGYUqp",
        "outputId": "7af60d68-4e3c-4c26-d0ff-08f070a728ca",
        "colab": {
          "base_uri": "https://localhost:8080/",
          "height": 394
        }
      },
      "outputs": [
        {
          "output_type": "execute_result",
          "data": {
            "text/plain": [
              "      customer  Age Education  Employ  Address  Income  Leverage  Creddebt  \\\n",
              "17       10423   19       Bas       2      0.0    31.0       0.3      0.02   \n",
              "247      71896   20    SupInc       0      0.0    21.0       1.3      0.18   \n",
              "255      72327   19       Med       0      NaN     NaN       NaN       NaN   \n",
              "293      74471   39       Bas       8      9.0    41.0       0.1      0.03   \n",
              "587     244023   31    SupCom       1      7.0    69.0       0.4      0.19   \n",
              "745     315892   22    SupInc       0      1.0    14.0       2.5      0.26   \n",
              "748     315948   41       Med      21      9.0    64.0       0.3      0.12   \n",
              "817     335635   18       Med       0      0.0    24.0       0.9      0.13   \n",
              "1194    372485   20    SupInc       0      0.0    13.0       1.1      0.05   \n",
              "1254    376801   23    SupCom       0      2.0    19.0       1.4      0.18   \n",
              "1395    382157   20    SupInc       0      0.0    13.0  999999.0      0.00   \n",
              "\n",
              "      OthDebt  MonthlyLoad  Default  \n",
              "17        NaN         0.01        1  \n",
              "247       NaN         0.07        1  \n",
              "255       NaN         0.01        1  \n",
              "293       NaN         0.00        0  \n",
              "587       NaN         0.01        0  \n",
              "745       NaN         0.20        0  \n",
              "748       NaN         0.01        0  \n",
              "817       NaN         0.05        1  \n",
              "1194      NaN         0.10        0  \n",
              "1254      NaN         0.09        0  \n",
              "1395      NaN         0.00        0  "
            ],
            "text/html": [
              "\n",
              "  <div id=\"df-7a51c44c-661b-4296-99ac-c6a9b578d76f\" class=\"colab-df-container\">\n",
              "    <div>\n",
              "<style scoped>\n",
              "    .dataframe tbody tr th:only-of-type {\n",
              "        vertical-align: middle;\n",
              "    }\n",
              "\n",
              "    .dataframe tbody tr th {\n",
              "        vertical-align: top;\n",
              "    }\n",
              "\n",
              "    .dataframe thead th {\n",
              "        text-align: right;\n",
              "    }\n",
              "</style>\n",
              "<table border=\"1\" class=\"dataframe\">\n",
              "  <thead>\n",
              "    <tr style=\"text-align: right;\">\n",
              "      <th></th>\n",
              "      <th>customer</th>\n",
              "      <th>Age</th>\n",
              "      <th>Education</th>\n",
              "      <th>Employ</th>\n",
              "      <th>Address</th>\n",
              "      <th>Income</th>\n",
              "      <th>Leverage</th>\n",
              "      <th>Creddebt</th>\n",
              "      <th>OthDebt</th>\n",
              "      <th>MonthlyLoad</th>\n",
              "      <th>Default</th>\n",
              "    </tr>\n",
              "  </thead>\n",
              "  <tbody>\n",
              "    <tr>\n",
              "      <th>17</th>\n",
              "      <td>10423</td>\n",
              "      <td>19</td>\n",
              "      <td>Bas</td>\n",
              "      <td>2</td>\n",
              "      <td>0.0</td>\n",
              "      <td>31.0</td>\n",
              "      <td>0.3</td>\n",
              "      <td>0.02</td>\n",
              "      <td>NaN</td>\n",
              "      <td>0.01</td>\n",
              "      <td>1</td>\n",
              "    </tr>\n",
              "    <tr>\n",
              "      <th>247</th>\n",
              "      <td>71896</td>\n",
              "      <td>20</td>\n",
              "      <td>SupInc</td>\n",
              "      <td>0</td>\n",
              "      <td>0.0</td>\n",
              "      <td>21.0</td>\n",
              "      <td>1.3</td>\n",
              "      <td>0.18</td>\n",
              "      <td>NaN</td>\n",
              "      <td>0.07</td>\n",
              "      <td>1</td>\n",
              "    </tr>\n",
              "    <tr>\n",
              "      <th>255</th>\n",
              "      <td>72327</td>\n",
              "      <td>19</td>\n",
              "      <td>Med</td>\n",
              "      <td>0</td>\n",
              "      <td>NaN</td>\n",
              "      <td>NaN</td>\n",
              "      <td>NaN</td>\n",
              "      <td>NaN</td>\n",
              "      <td>NaN</td>\n",
              "      <td>0.01</td>\n",
              "      <td>1</td>\n",
              "    </tr>\n",
              "    <tr>\n",
              "      <th>293</th>\n",
              "      <td>74471</td>\n",
              "      <td>39</td>\n",
              "      <td>Bas</td>\n",
              "      <td>8</td>\n",
              "      <td>9.0</td>\n",
              "      <td>41.0</td>\n",
              "      <td>0.1</td>\n",
              "      <td>0.03</td>\n",
              "      <td>NaN</td>\n",
              "      <td>0.00</td>\n",
              "      <td>0</td>\n",
              "    </tr>\n",
              "    <tr>\n",
              "      <th>587</th>\n",
              "      <td>244023</td>\n",
              "      <td>31</td>\n",
              "      <td>SupCom</td>\n",
              "      <td>1</td>\n",
              "      <td>7.0</td>\n",
              "      <td>69.0</td>\n",
              "      <td>0.4</td>\n",
              "      <td>0.19</td>\n",
              "      <td>NaN</td>\n",
              "      <td>0.01</td>\n",
              "      <td>0</td>\n",
              "    </tr>\n",
              "    <tr>\n",
              "      <th>745</th>\n",
              "      <td>315892</td>\n",
              "      <td>22</td>\n",
              "      <td>SupInc</td>\n",
              "      <td>0</td>\n",
              "      <td>1.0</td>\n",
              "      <td>14.0</td>\n",
              "      <td>2.5</td>\n",
              "      <td>0.26</td>\n",
              "      <td>NaN</td>\n",
              "      <td>0.20</td>\n",
              "      <td>0</td>\n",
              "    </tr>\n",
              "    <tr>\n",
              "      <th>748</th>\n",
              "      <td>315948</td>\n",
              "      <td>41</td>\n",
              "      <td>Med</td>\n",
              "      <td>21</td>\n",
              "      <td>9.0</td>\n",
              "      <td>64.0</td>\n",
              "      <td>0.3</td>\n",
              "      <td>0.12</td>\n",
              "      <td>NaN</td>\n",
              "      <td>0.01</td>\n",
              "      <td>0</td>\n",
              "    </tr>\n",
              "    <tr>\n",
              "      <th>817</th>\n",
              "      <td>335635</td>\n",
              "      <td>18</td>\n",
              "      <td>Med</td>\n",
              "      <td>0</td>\n",
              "      <td>0.0</td>\n",
              "      <td>24.0</td>\n",
              "      <td>0.9</td>\n",
              "      <td>0.13</td>\n",
              "      <td>NaN</td>\n",
              "      <td>0.05</td>\n",
              "      <td>1</td>\n",
              "    </tr>\n",
              "    <tr>\n",
              "      <th>1194</th>\n",
              "      <td>372485</td>\n",
              "      <td>20</td>\n",
              "      <td>SupInc</td>\n",
              "      <td>0</td>\n",
              "      <td>0.0</td>\n",
              "      <td>13.0</td>\n",
              "      <td>1.1</td>\n",
              "      <td>0.05</td>\n",
              "      <td>NaN</td>\n",
              "      <td>0.10</td>\n",
              "      <td>0</td>\n",
              "    </tr>\n",
              "    <tr>\n",
              "      <th>1254</th>\n",
              "      <td>376801</td>\n",
              "      <td>23</td>\n",
              "      <td>SupCom</td>\n",
              "      <td>0</td>\n",
              "      <td>2.0</td>\n",
              "      <td>19.0</td>\n",
              "      <td>1.4</td>\n",
              "      <td>0.18</td>\n",
              "      <td>NaN</td>\n",
              "      <td>0.09</td>\n",
              "      <td>0</td>\n",
              "    </tr>\n",
              "    <tr>\n",
              "      <th>1395</th>\n",
              "      <td>382157</td>\n",
              "      <td>20</td>\n",
              "      <td>SupInc</td>\n",
              "      <td>0</td>\n",
              "      <td>0.0</td>\n",
              "      <td>13.0</td>\n",
              "      <td>999999.0</td>\n",
              "      <td>0.00</td>\n",
              "      <td>NaN</td>\n",
              "      <td>0.00</td>\n",
              "      <td>0</td>\n",
              "    </tr>\n",
              "  </tbody>\n",
              "</table>\n",
              "</div>\n",
              "    <div class=\"colab-df-buttons\">\n",
              "\n",
              "  <div class=\"colab-df-container\">\n",
              "    <button class=\"colab-df-convert\" onclick=\"convertToInteractive('df-7a51c44c-661b-4296-99ac-c6a9b578d76f')\"\n",
              "            title=\"Convert this dataframe to an interactive table.\"\n",
              "            style=\"display:none;\">\n",
              "\n",
              "  <svg xmlns=\"http://www.w3.org/2000/svg\" height=\"24px\" viewBox=\"0 -960 960 960\">\n",
              "    <path d=\"M120-120v-720h720v720H120Zm60-500h600v-160H180v160Zm220 220h160v-160H400v160Zm0 220h160v-160H400v160ZM180-400h160v-160H180v160Zm440 0h160v-160H620v160ZM180-180h160v-160H180v160Zm440 0h160v-160H620v160Z\"/>\n",
              "  </svg>\n",
              "    </button>\n",
              "\n",
              "  <style>\n",
              "    .colab-df-container {\n",
              "      display:flex;\n",
              "      gap: 12px;\n",
              "    }\n",
              "\n",
              "    .colab-df-convert {\n",
              "      background-color: #E8F0FE;\n",
              "      border: none;\n",
              "      border-radius: 50%;\n",
              "      cursor: pointer;\n",
              "      display: none;\n",
              "      fill: #1967D2;\n",
              "      height: 32px;\n",
              "      padding: 0 0 0 0;\n",
              "      width: 32px;\n",
              "    }\n",
              "\n",
              "    .colab-df-convert:hover {\n",
              "      background-color: #E2EBFA;\n",
              "      box-shadow: 0px 1px 2px rgba(60, 64, 67, 0.3), 0px 1px 3px 1px rgba(60, 64, 67, 0.15);\n",
              "      fill: #174EA6;\n",
              "    }\n",
              "\n",
              "    .colab-df-buttons div {\n",
              "      margin-bottom: 4px;\n",
              "    }\n",
              "\n",
              "    [theme=dark] .colab-df-convert {\n",
              "      background-color: #3B4455;\n",
              "      fill: #D2E3FC;\n",
              "    }\n",
              "\n",
              "    [theme=dark] .colab-df-convert:hover {\n",
              "      background-color: #434B5C;\n",
              "      box-shadow: 0px 1px 3px 1px rgba(0, 0, 0, 0.15);\n",
              "      filter: drop-shadow(0px 1px 2px rgba(0, 0, 0, 0.3));\n",
              "      fill: #FFFFFF;\n",
              "    }\n",
              "  </style>\n",
              "\n",
              "    <script>\n",
              "      const buttonEl =\n",
              "        document.querySelector('#df-7a51c44c-661b-4296-99ac-c6a9b578d76f button.colab-df-convert');\n",
              "      buttonEl.style.display =\n",
              "        google.colab.kernel.accessAllowed ? 'block' : 'none';\n",
              "\n",
              "      async function convertToInteractive(key) {\n",
              "        const element = document.querySelector('#df-7a51c44c-661b-4296-99ac-c6a9b578d76f');\n",
              "        const dataTable =\n",
              "          await google.colab.kernel.invokeFunction('convertToInteractive',\n",
              "                                                    [key], {});\n",
              "        if (!dataTable) return;\n",
              "\n",
              "        const docLinkHtml = 'Like what you see? Visit the ' +\n",
              "          '<a target=\"_blank\" href=https://colab.research.google.com/notebooks/data_table.ipynb>data table notebook</a>'\n",
              "          + ' to learn more about interactive tables.';\n",
              "        element.innerHTML = '';\n",
              "        dataTable['output_type'] = 'display_data';\n",
              "        await google.colab.output.renderOutput(dataTable, element);\n",
              "        const docLink = document.createElement('div');\n",
              "        docLink.innerHTML = docLinkHtml;\n",
              "        element.appendChild(docLink);\n",
              "      }\n",
              "    </script>\n",
              "  </div>\n",
              "\n",
              "\n",
              "<div id=\"df-d387fc28-ea23-45e5-a3a5-59fcd4e18575\">\n",
              "  <button class=\"colab-df-quickchart\" onclick=\"quickchart('df-d387fc28-ea23-45e5-a3a5-59fcd4e18575')\"\n",
              "            title=\"Suggest charts\"\n",
              "            style=\"display:none;\">\n",
              "\n",
              "<svg xmlns=\"http://www.w3.org/2000/svg\" height=\"24px\"viewBox=\"0 0 24 24\"\n",
              "     width=\"24px\">\n",
              "    <g>\n",
              "        <path d=\"M19 3H5c-1.1 0-2 .9-2 2v14c0 1.1.9 2 2 2h14c1.1 0 2-.9 2-2V5c0-1.1-.9-2-2-2zM9 17H7v-7h2v7zm4 0h-2V7h2v10zm4 0h-2v-4h2v4z\"/>\n",
              "    </g>\n",
              "</svg>\n",
              "  </button>\n",
              "\n",
              "<style>\n",
              "  .colab-df-quickchart {\n",
              "      --bg-color: #E8F0FE;\n",
              "      --fill-color: #1967D2;\n",
              "      --hover-bg-color: #E2EBFA;\n",
              "      --hover-fill-color: #174EA6;\n",
              "      --disabled-fill-color: #AAA;\n",
              "      --disabled-bg-color: #DDD;\n",
              "  }\n",
              "\n",
              "  [theme=dark] .colab-df-quickchart {\n",
              "      --bg-color: #3B4455;\n",
              "      --fill-color: #D2E3FC;\n",
              "      --hover-bg-color: #434B5C;\n",
              "      --hover-fill-color: #FFFFFF;\n",
              "      --disabled-bg-color: #3B4455;\n",
              "      --disabled-fill-color: #666;\n",
              "  }\n",
              "\n",
              "  .colab-df-quickchart {\n",
              "    background-color: var(--bg-color);\n",
              "    border: none;\n",
              "    border-radius: 50%;\n",
              "    cursor: pointer;\n",
              "    display: none;\n",
              "    fill: var(--fill-color);\n",
              "    height: 32px;\n",
              "    padding: 0;\n",
              "    width: 32px;\n",
              "  }\n",
              "\n",
              "  .colab-df-quickchart:hover {\n",
              "    background-color: var(--hover-bg-color);\n",
              "    box-shadow: 0 1px 2px rgba(60, 64, 67, 0.3), 0 1px 3px 1px rgba(60, 64, 67, 0.15);\n",
              "    fill: var(--button-hover-fill-color);\n",
              "  }\n",
              "\n",
              "  .colab-df-quickchart-complete:disabled,\n",
              "  .colab-df-quickchart-complete:disabled:hover {\n",
              "    background-color: var(--disabled-bg-color);\n",
              "    fill: var(--disabled-fill-color);\n",
              "    box-shadow: none;\n",
              "  }\n",
              "\n",
              "  .colab-df-spinner {\n",
              "    border: 2px solid var(--fill-color);\n",
              "    border-color: transparent;\n",
              "    border-bottom-color: var(--fill-color);\n",
              "    animation:\n",
              "      spin 1s steps(1) infinite;\n",
              "  }\n",
              "\n",
              "  @keyframes spin {\n",
              "    0% {\n",
              "      border-color: transparent;\n",
              "      border-bottom-color: var(--fill-color);\n",
              "      border-left-color: var(--fill-color);\n",
              "    }\n",
              "    20% {\n",
              "      border-color: transparent;\n",
              "      border-left-color: var(--fill-color);\n",
              "      border-top-color: var(--fill-color);\n",
              "    }\n",
              "    30% {\n",
              "      border-color: transparent;\n",
              "      border-left-color: var(--fill-color);\n",
              "      border-top-color: var(--fill-color);\n",
              "      border-right-color: var(--fill-color);\n",
              "    }\n",
              "    40% {\n",
              "      border-color: transparent;\n",
              "      border-right-color: var(--fill-color);\n",
              "      border-top-color: var(--fill-color);\n",
              "    }\n",
              "    60% {\n",
              "      border-color: transparent;\n",
              "      border-right-color: var(--fill-color);\n",
              "    }\n",
              "    80% {\n",
              "      border-color: transparent;\n",
              "      border-right-color: var(--fill-color);\n",
              "      border-bottom-color: var(--fill-color);\n",
              "    }\n",
              "    90% {\n",
              "      border-color: transparent;\n",
              "      border-bottom-color: var(--fill-color);\n",
              "    }\n",
              "  }\n",
              "</style>\n",
              "\n",
              "  <script>\n",
              "    async function quickchart(key) {\n",
              "      const quickchartButtonEl =\n",
              "        document.querySelector('#' + key + ' button');\n",
              "      quickchartButtonEl.disabled = true;  // To prevent multiple clicks.\n",
              "      quickchartButtonEl.classList.add('colab-df-spinner');\n",
              "      try {\n",
              "        const charts = await google.colab.kernel.invokeFunction(\n",
              "            'suggestCharts', [key], {});\n",
              "      } catch (error) {\n",
              "        console.error('Error during call to suggestCharts:', error);\n",
              "      }\n",
              "      quickchartButtonEl.classList.remove('colab-df-spinner');\n",
              "      quickchartButtonEl.classList.add('colab-df-quickchart-complete');\n",
              "    }\n",
              "    (() => {\n",
              "      let quickchartButtonEl =\n",
              "        document.querySelector('#df-d387fc28-ea23-45e5-a3a5-59fcd4e18575 button');\n",
              "      quickchartButtonEl.style.display =\n",
              "        google.colab.kernel.accessAllowed ? 'block' : 'none';\n",
              "    })();\n",
              "  </script>\n",
              "</div>\n",
              "\n",
              "    </div>\n",
              "  </div>\n"
            ],
            "application/vnd.google.colaboratory.intrinsic+json": {
              "type": "dataframe",
              "summary": "{\n  \"name\": \"bankloan_data\",\n  \"rows\": 11,\n  \"fields\": [\n    {\n      \"column\": \"customer\",\n      \"properties\": {\n        \"dtype\": \"number\",\n        \"std\": 146022,\n        \"min\": 10423,\n        \"max\": 382157,\n        \"num_unique_values\": 11,\n        \"samples\": [\n          315892,\n          10423,\n          376801\n        ],\n        \"semantic_type\": \"\",\n        \"description\": \"\"\n      }\n    },\n    {\n      \"column\": \"Age\",\n      \"properties\": {\n        \"dtype\": \"number\",\n        \"std\": 8,\n        \"min\": 18,\n        \"max\": 41,\n        \"num_unique_values\": 8,\n        \"samples\": [\n          20,\n          41,\n          19\n        ],\n        \"semantic_type\": \"\",\n        \"description\": \"\"\n      }\n    },\n    {\n      \"column\": \"Education\",\n      \"properties\": {\n        \"dtype\": \"category\",\n        \"num_unique_values\": 4,\n        \"samples\": [\n          \"SupInc\",\n          \"SupCom\",\n          \"Bas\"\n        ],\n        \"semantic_type\": \"\",\n        \"description\": \"\"\n      }\n    },\n    {\n      \"column\": \"Employ\",\n      \"properties\": {\n        \"dtype\": \"number\",\n        \"std\": 6,\n        \"min\": 0,\n        \"max\": 21,\n        \"num_unique_values\": 5,\n        \"samples\": [\n          0,\n          21,\n          8\n        ],\n        \"semantic_type\": \"\",\n        \"description\": \"\"\n      }\n    },\n    {\n      \"column\": \"Address\",\n      \"properties\": {\n        \"dtype\": \"number\",\n        \"std\": 3.9101008796307144,\n        \"min\": 0.0,\n        \"max\": 9.0,\n        \"num_unique_values\": 5,\n        \"samples\": [\n          9.0,\n          2.0,\n          7.0\n        ],\n        \"semantic_type\": \"\",\n        \"description\": \"\"\n      }\n    },\n    {\n      \"column\": \"Income\",\n      \"properties\": {\n        \"dtype\": \"number\",\n        \"std\": 20.717410820638545,\n        \"min\": 13.0,\n        \"max\": 69.0,\n        \"num_unique_values\": 9,\n        \"samples\": [\n          13.0,\n          21.0,\n          64.0\n        ],\n        \"semantic_type\": \"\",\n        \"description\": \"\"\n      }\n    },\n    {\n      \"column\": \"Leverage\",\n      \"properties\": {\n        \"dtype\": \"number\",\n        \"std\": 316227.1581576097,\n        \"min\": 0.1,\n        \"max\": 999999.0,\n        \"num_unique_values\": 9,\n        \"samples\": [\n          1.4,\n          1.3,\n          0.9\n        ],\n        \"semantic_type\": \"\",\n        \"description\": \"\"\n      }\n    },\n    {\n      \"column\": \"Creddebt\",\n      \"properties\": {\n        \"dtype\": \"number\",\n        \"std\": 0.0875848794662133,\n        \"min\": 0.0,\n        \"max\": 0.26,\n        \"num_unique_values\": 9,\n        \"samples\": [\n          0.05,\n          0.18,\n          0.12\n        ],\n        \"semantic_type\": \"\",\n        \"description\": \"\"\n      }\n    },\n    {\n      \"column\": \"OthDebt\",\n      \"properties\": {\n        \"dtype\": \"number\",\n        \"std\": null,\n        \"min\": null,\n        \"max\": null,\n        \"num_unique_values\": 0,\n        \"samples\": [],\n        \"semantic_type\": \"\",\n        \"description\": \"\"\n      }\n    },\n    {\n      \"column\": \"MonthlyLoad\",\n      \"properties\": {\n        \"dtype\": \"number\",\n        \"std\": 0.06196773353931868,\n        \"min\": 0.0,\n        \"max\": 0.2,\n        \"num_unique_values\": 7,\n        \"samples\": [],\n        \"semantic_type\": \"\",\n        \"description\": \"\"\n      }\n    },\n    {\n      \"column\": \"Default\",\n      \"properties\": {\n        \"dtype\": \"number\",\n        \"std\": 0,\n        \"min\": 0,\n        \"max\": 1,\n        \"num_unique_values\": 2,\n        \"samples\": [],\n        \"semantic_type\": \"\",\n        \"description\": \"\"\n      }\n    }\n  ]\n}"
            }
          },
          "metadata": {},
          "execution_count": 10
        }
      ],
      "source": [
        "bankloan_data.loc[bankloan_data.isnull().any(axis = 1), :]"
      ]
    },
    {
      "cell_type": "markdown",
      "metadata": {
        "id": "_ZWCGoKQYfvB"
      },
      "source": [
        "We can see all cases in which OthDebt is null. We can also see the egregious outlier that Leverage has, with a value of 9999999. These values give us some hints about what's happening with OthDebt. Let's study the minimum and maximum of the variables."
      ]
    },
    {
      "cell_type": "code",
      "execution_count": 11,
      "metadata": {
        "id": "nD5BqZ5hYwcY",
        "outputId": "0f3d5994-6645-47f0-9bbc-14233ac4057e",
        "colab": {
          "base_uri": "https://localhost:8080/",
          "height": 335
        }
      },
      "outputs": [
        {
          "output_type": "execute_result",
          "data": {
            "text/plain": [
              "count    1489.000000\n",
              "mean        3.872257\n",
              "std         5.343150\n",
              "min         0.100000\n",
              "25%         1.120000\n",
              "50%         2.240000\n",
              "75%         4.610000\n",
              "max        63.470000\n",
              "Name: OthDebt, dtype: float64"
            ],
            "text/html": [
              "<div>\n",
              "<style scoped>\n",
              "    .dataframe tbody tr th:only-of-type {\n",
              "        vertical-align: middle;\n",
              "    }\n",
              "\n",
              "    .dataframe tbody tr th {\n",
              "        vertical-align: top;\n",
              "    }\n",
              "\n",
              "    .dataframe thead th {\n",
              "        text-align: right;\n",
              "    }\n",
              "</style>\n",
              "<table border=\"1\" class=\"dataframe\">\n",
              "  <thead>\n",
              "    <tr style=\"text-align: right;\">\n",
              "      <th></th>\n",
              "      <th>OthDebt</th>\n",
              "    </tr>\n",
              "  </thead>\n",
              "  <tbody>\n",
              "    <tr>\n",
              "      <th>count</th>\n",
              "      <td>1489.000000</td>\n",
              "    </tr>\n",
              "    <tr>\n",
              "      <th>mean</th>\n",
              "      <td>3.872257</td>\n",
              "    </tr>\n",
              "    <tr>\n",
              "      <th>std</th>\n",
              "      <td>5.343150</td>\n",
              "    </tr>\n",
              "    <tr>\n",
              "      <th>min</th>\n",
              "      <td>0.100000</td>\n",
              "    </tr>\n",
              "    <tr>\n",
              "      <th>25%</th>\n",
              "      <td>1.120000</td>\n",
              "    </tr>\n",
              "    <tr>\n",
              "      <th>50%</th>\n",
              "      <td>2.240000</td>\n",
              "    </tr>\n",
              "    <tr>\n",
              "      <th>75%</th>\n",
              "      <td>4.610000</td>\n",
              "    </tr>\n",
              "    <tr>\n",
              "      <th>max</th>\n",
              "      <td>63.470000</td>\n",
              "    </tr>\n",
              "  </tbody>\n",
              "</table>\n",
              "</div><br><label><b>dtype:</b> float64</label>"
            ]
          },
          "metadata": {},
          "execution_count": 11
        }
      ],
      "source": [
        "bankloan_data.OthDebt.describe()"
      ]
    },
    {
      "cell_type": "markdown",
      "metadata": {
        "id": "KpgxTyujY0YD"
      },
      "source": [
        "Aha! Note anything? There are no values equal to 0! We can make a good guess that the null values are equal to zero. In real life we would call the sysadmins to confirm this, but in this case we can make a guess.\n",
        "\n",
        "Then, we now should fix these values as follow:\n",
        "\n",
        "1. Replace the leverage equal to 999999 by a null value.\n",
        "2. Replace all OthDebt nulls by 0.\n",
        "3. Replace the remaining null values by the median."
      ]
    },
    {
      "cell_type": "code",
      "execution_count": 12,
      "metadata": {
        "id": "Geu-R8RRa1Tf"
      },
      "outputs": [],
      "source": [
        "# Replace invalid outlier.\n",
        "bankloan_data.Leverage.values[bankloan_data.Leverage.values == 999999] = np.nan"
      ]
    },
    {
      "cell_type": "code",
      "execution_count": null,
      "metadata": {
        "id": "BFaxJbmNKGcN"
      },
      "outputs": [],
      "source": [
        "# Fills out the null values with zeros. Inplace argument changes dataframe.\n",
        "bankloan_data.fillna(value={'OthDebt': 0}, inplace=True)"
      ]
    },
    {
      "cell_type": "code",
      "execution_count": null,
      "metadata": {
        "id": "ceQ6j1xnxHDm"
      },
      "outputs": [],
      "source": [
        "# Remove null case if you want\n",
        "# bankloan_data.drop(index=255, axis=0, inplace = True)"
      ]
    },
    {
      "cell_type": "code",
      "execution_count": null,
      "metadata": {
        "id": "R06ZbW0DcN6f"
      },
      "outputs": [],
      "source": [
        "# Get the column names for columns with null values.\n",
        "null_columns = bankloan_data.columns[bankloan_data.isnull().any()]\n",
        "\n",
        "# Creates dictionary of the column names and the median of the column.\n",
        "dict_median = {column: bankloan_data[column].median() for column in null_columns}\n",
        "print(dict_median)\n",
        "\n",
        "# Fill the NA/NaN values with the median of the column.\n",
        "bankloan_data.fillna(value=dict_median, inplace=True)"
      ]
    },
    {
      "cell_type": "code",
      "execution_count": null,
      "metadata": {
        "id": "QgFDQXyBiHiU"
      },
      "outputs": [],
      "source": [
        "bankloan_data.describe()"
      ]
    },
    {
      "cell_type": "markdown",
      "metadata": {
        "id": "rwY4w7DAcwyE"
      },
      "source": [
        "There are no more null values! We are now ready to study the distributions."
      ]
    },
    {
      "cell_type": "markdown",
      "metadata": {
        "id": "1hpzkfzwiPyB"
      },
      "source": [
        "### Outlier cleaning\n",
        "\n",
        "Cleaning outlier, on the other hand, requires a much more manual intervention. We know there are three variables we need to intervene in: Income, Creddebt, and OthDebt. In general, we would like to modify all cases where there is either a discontinuous distribution or a case that is outside of 3 to 6 standard deviations.\n",
        "\n",
        "It is very important to use your judgement in this! Don't just cut in 3 stds, as that is too restrictive in an exponential distribution. If you want to get an idea of the values, then seaborn can help. The function ```displot``` with either the option ```hist``` or ```kde``` allows to check the distribution of values."
      ]
    },
    {
      "cell_type": "code",
      "execution_count": null,
      "metadata": {
        "id": "dCOmLnVpiOVo"
      },
      "outputs": [],
      "source": [
        "fig = sns.displot(data=bankloan_data, x='Income', kind='kde', hue='Default')\n",
        "plt.savefig('Income.pdf')\n",
        "plt.show()"
      ]
    },
    {
      "cell_type": "code",
      "execution_count": null,
      "metadata": {
        "id": "IPA95piMjhLv"
      },
      "outputs": [],
      "source": [
        "sns.displot(data = bankloan_data, x ='OthDebt', kind='kde', hue='Default')\n",
        "plt.show()"
      ]
    },
    {
      "cell_type": "code",
      "execution_count": null,
      "metadata": {
        "id": "AwJ3ND4gZj9S"
      },
      "outputs": [],
      "source": [
        "fig = sns.displot(data = bankloan_data, x = 'Creddebt', kind = 'kde', hue = 'Default')\n",
        "plt.savefig('Creddebt.pdf')\n",
        "plt.show()"
      ]
    },
    {
      "cell_type": "markdown",
      "metadata": {
        "id": "QtGBJQw6jnmm"
      },
      "source": [
        "Income needs to be trimmed from the right. Potential cutoffs are Income of 450. OthDebt and Creddebt need to be truncated or left as is.\n",
        "\n",
        "To actually cut the values, then we can simply write a proper expression in Pandas:"
      ]
    },
    {
      "cell_type": "code",
      "execution_count": null,
      "metadata": {
        "id": "VQrTABT-lIZa"
      },
      "outputs": [],
      "source": [
        "bankloan_data['Income'].sort_values(ascending=False).head(n=50)"
      ]
    },
    {
      "cell_type": "code",
      "execution_count": null,
      "metadata": {
        "id": "HWhH4fgcji1G"
      },
      "outputs": [],
      "source": [
        "bankloan_data = bankloan_data.loc[bankloan_data['Income'] < 300]"
      ]
    },
    {
      "cell_type": "markdown",
      "metadata": {
        "id": "BpbVxiJQmOBs"
      },
      "source": [
        "We can check now how the data looks like."
      ]
    },
    {
      "cell_type": "code",
      "execution_count": null,
      "metadata": {
        "id": "wgUVYbTKlpQT"
      },
      "outputs": [],
      "source": [
        "fig, ax = plt.subplots(figsize=(10,5))\n",
        "a = sns.violinplot(x='variable', y='value', data=pd.melt(bankloan_data.iloc[:, np.r_[1,3:9]]), ax=ax)\n",
        "a.set_xticklabels(a.get_xticklabels(), rotation=90);"
      ]
    },
    {
      "cell_type": "code",
      "execution_count": null,
      "metadata": {
        "id": "qFia8JlY0WU1"
      },
      "outputs": [],
      "source": [
        "bankloan_data.describe()"
      ]
    },
    {
      "cell_type": "markdown",
      "metadata": {
        "id": "mPDWYQFymRX1"
      },
      "source": [
        "Much better, although income still has a large outlier. This plot might be misleading though, as the magnitud of the data is relevant. We might want to recheck this after normalizing the data. We will now save the output to a compressed format which is very efficient to start whole data structures, [pickle](https://pandas.pydata.org/pandas-docs/stable/reference/api/pandas.DataFrame.to_pickle.html)."
      ]
    },
    {
      "cell_type": "code",
      "execution_count": null,
      "metadata": {
        "id": "4V1InwIQIM9J"
      },
      "outputs": [],
      "source": [
        "bankloan_data.to_pickle('BankloanClean.pkl')"
      ]
    },
    {
      "cell_type": "markdown",
      "metadata": {
        "id": "IwSEaeGlmFzO"
      },
      "source": [
        "## Standardization\n",
        "\n",
        "Most models require the inputs to be in the same scale, this is called **normalization**. It is very important for most models, save for some very unique exceptions. This is fairly simple to do in Pandas, being smart about what columns we select and **mapping** a function to those columns.\n",
        "\n",
        "The most traditional normalization function is the zscore. We can use scipy's version of it.\n",
        "\n"
      ]
    },
    {
      "cell_type": "markdown",
      "metadata": {
        "id": "oEFMdbTMnW68"
      },
      "source": [
        "We now select all numeric columns, except the customer and target. We can do this with ```select_dtypes```."
      ]
    },
    {
      "cell_type": "code",
      "execution_count": null,
      "metadata": {
        "id": "D0I8jDLlm6vM"
      },
      "outputs": [],
      "source": [
        "# Identify the numerical columns\n",
        "numeric_cols = bankloan_data.select_dtypes(include=[np.number]).columns\n",
        "numeric_cols"
      ]
    },
    {
      "cell_type": "code",
      "execution_count": null,
      "metadata": {
        "id": "QAmoNyjxny0G"
      },
      "outputs": [],
      "source": [
        "# Remove the first and last one\n",
        "numeric_cols = numeric_cols[1:-1]"
      ]
    },
    {
      "cell_type": "code",
      "execution_count": null,
      "metadata": {
        "id": "k1ETL7-Nn11u"
      },
      "outputs": [],
      "source": [
        "# Apply the zscore function to all data\n",
        "bankloan_data[numeric_cols] = bankloan_data[numeric_cols].apply(zscore)"
      ]
    },
    {
      "cell_type": "markdown",
      "metadata": {
        "id": "StvuqRWApixH"
      },
      "source": [
        "Now the data should look much better."
      ]
    },
    {
      "cell_type": "code",
      "execution_count": null,
      "metadata": {
        "id": "JrahcfLIoN45"
      },
      "outputs": [],
      "source": [
        "fig, ax = plt.subplots(figsize=(10,5))\n",
        "a = sns.violinplot(x='variable', y='value', data=pd.melt(bankloan_data.iloc[:, np.r_[1,3:9]]), ax=ax)\n",
        "a.set_xticklabels(a.get_xticklabels(), rotation=90);"
      ]
    },
    {
      "cell_type": "markdown",
      "metadata": {
        "id": "h9o6wiTXdlsv"
      },
      "source": [
        "The dataset looks really clean now. We are ready to use further models! To be 100% purist **you should first split between train and test set** before doing all of these analyses (so you should use the median of the train set). As we have not seen train / test split yet, it won't be necessary for this week, but you must do so for your term project."
      ]
    }
  ],
  "metadata": {
    "colab": {
      "provenance": []
    },
    "kernelspec": {
      "display_name": "ml",
      "language": "python",
      "name": "python3"
    },
    "language_info": {
      "codemirror_mode": {
        "name": "ipython",
        "version": 3
      },
      "file_extension": ".py",
      "mimetype": "text/x-python",
      "name": "python",
      "nbconvert_exporter": "python",
      "pygments_lexer": "ipython3",
      "version": "3.11.5"
    }
  },
  "nbformat": 4,
  "nbformat_minor": 0
}