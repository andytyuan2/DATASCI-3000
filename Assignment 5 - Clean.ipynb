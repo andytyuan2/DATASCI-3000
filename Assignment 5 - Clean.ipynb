{
 "cells": [
  {
   "cell_type": "markdown",
   "metadata": {
    "id": "m9l0b9ZnSgPd"
   },
   "source": [
    "# Assignment 5: Logistic Regression with Variable Selection\n",
    "\n",
    "## Follow These Steps Before Submitting\n",
    "Once you are finished, ensure to complete the following steps.\n",
    "\n",
    "1.  Restart your kernel by clicking **'Runtime' > 'Restart session and run all'**.\n",
    "\n",
    "2.  Fix any errors which result from this.\n",
    "\n",
    "3.  Repeat steps 1. and 2. until your notebook runs without errors.\n",
    "\n",
    "4.  Submit your completed notebook to OWL by the deadline."
   ]
  },
  {
   "cell_type": "markdown",
   "metadata": {
    "id": "LJCGYX0iRh9j"
   },
   "source": [
    "# Dataset\n",
    "\n",
    "In this assignment, you will work on a dataset taken from USGS(U.S Geological Survey). This dataset contains earthquake data with a magnitude of 4.5+ and an \"alert\" warning level, recorded between 1976 and 2025. Below is an explanation of the columns included in the dataset:\n",
    "\n",
    "- **`id`**: A unique identifier for the earthquake event.\n",
    "- **`time`**: The timestamp indicating when the earthquake or event occurred, including the date and time in UTC format.\n",
    "- **`latitude`**: The geographical latitude of the earthquake's epicenter, measured in degrees.\n",
    "- **`longitude`**: The geographical longitude of the earthquake's epicenter, measured in degrees.\n",
    "- **`depth`**: The depth at which the earthquake occurred, typically measured in kilometers below the Earth's surface.\n",
    "- **`mag`**: The magnitude of the earthquake, representing the energy released by the seismic event. In this case, a value of 8.6 indicates a very large earthquake.\n",
    "- **`gap`**: The azimuthal gap, which refers to the angular distance between the two most distant seismic stations that recorded the earthquake. A smaller gap typically indicates better global coverage.\n",
    "- **`dmin`**: The minimum distance between the earthquake's epicenter and the nearest seismic station, measured in degrees.\n",
    "- **`rms`**: The root mean square of the amplitude of the seismic waves, representing the strength of the seismic signal.\n",
    "- **`horizontalError`**: The error associated with the latitude and longitude coordinates of the epicenter, typically measured in kilometers.\n",
    "- **`depthError`**: The error associated with the depth measurement of the earthquake, typically measured in kilometers.\n",
    "- **`magError`**: The error associated with the magnitude measurement of the earthquake, representing the uncertainty in the reported magnitude.\n",
    "- **`magNst`**: The number of stations that contributed to the magnitude estimation.\n",
    "- **`Alert` (target)** The alert level issued for the earthquake, whether 'Severe' or 'Non-Severe'.\n",
    "\n",
    "The goal is to train a model for predicting the **`Alert`** which indicates the severity of the earthquake.\n",
    "\n"
   ]
  },
  {
   "cell_type": "code",
   "execution_count": 1,
   "metadata": {
    "id": "zoXM0sRHQne_"
   },
   "outputs": [],
   "source": [
    "# Standard imports\n",
    "import numpy as np\n",
    "from itertools import chain, combinations\n",
    "\n",
    "# Data manipulation\n",
    "import pandas as pd\n",
    "import polars as pl\n",
    "\n",
    "# Sklearn imports\n",
    "from sklearn.model_selection import train_test_split, cross_val_score\n",
    "from sklearn.preprocessing import StandardScaler\n",
    "from sklearn.linear_model import LogisticRegression, LogisticRegressionCV\n",
    "from sklearn.metrics import accuracy_score\n",
    "from sklearn.metrics import roc_curve, roc_auc_score\n",
    "from sklearn.pipeline import Pipeline\n",
    "from sklearn.feature_selection import SequentialFeatureSelector\n",
    "\n",
    "# Plotting packages\n",
    "import matplotlib.pyplot as plt\n",
    "import seaborn as sns\n",
    "%matplotlib inline"
   ]
  },
  {
   "cell_type": "code",
   "execution_count": null,
   "metadata": {
    "id": "dIBHhqMZUx3R"
   },
   "outputs": [],
   "source": [
    "# Download the data\n",
    "#!gdown https://drive.google.com/uc?id=1yL84FMQrfHC_cQsa_V3KTcRAJS0k4DhY"
   ]
  },
  {
   "cell_type": "markdown",
   "metadata": {
    "id": "l8G0CQ-bXMMM"
   },
   "source": [
    "# Part 1: Data Preprocessing"
   ]
  },
  {
   "cell_type": "markdown",
   "metadata": {
    "id": "UMaaQ19-Xd1d"
   },
   "source": [
    "## Question 1.1: Load data\n",
    "\n",
    "(1) Read the **`earthquakes.parquet`** file as a **`polars.DataFrame`** and show its descriptive statistics.\n",
    "\n",
    "(2) Drop column **`id`** and **`time`** and display the first 5 rows of the dataframe.\n",
    "\n",
    "Since **`id`** is unique for each earthquake event that does not contain any predictive information and **`time`** is not directly informative for predicting earthquake severity unless you extract relevant features such as time of day, seasonality, etc."
   ]
  },
  {
   "cell_type": "code",
   "execution_count": 5,
   "metadata": {
    "id": "B6_VKNYOWLnI"
   },
   "outputs": [
    {
     "data": {
      "text/html": [
       "<div><style>\n",
       ".dataframe > thead > tr,\n",
       ".dataframe > tbody > tr {\n",
       "  text-align: right;\n",
       "  white-space: pre-wrap;\n",
       "}\n",
       "</style>\n",
       "<small>shape: (9, 15)</small><table border=\"1\" class=\"dataframe\"><thead><tr><th>statistic</th><th>id</th><th>time</th><th>latitude</th><th>longitude</th><th>depth</th><th>mag</th><th>gap</th><th>dmin</th><th>rms</th><th>horizontalError</th><th>depthError</th><th>magError</th><th>magNst</th><th>Alert</th></tr><tr><td>str</td><td>str</td><td>str</td><td>f64</td><td>f64</td><td>f64</td><td>f64</td><td>f64</td><td>f64</td><td>f64</td><td>f64</td><td>f64</td><td>f64</td><td>f64</td><td>str</td></tr></thead><tbody><tr><td>&quot;count&quot;</td><td>&quot;7699&quot;</td><td>&quot;7699&quot;</td><td>7699.0</td><td>7699.0</td><td>7699.0</td><td>7699.0</td><td>7375.0</td><td>6997.0</td><td>7673.0</td><td>6481.0</td><td>7490.0</td><td>5485.0</td><td>5632.0</td><td>&quot;7699&quot;</td></tr><tr><td>&quot;null_count&quot;</td><td>&quot;0&quot;</td><td>&quot;0&quot;</td><td>0.0</td><td>0.0</td><td>0.0</td><td>0.0</td><td>324.0</td><td>702.0</td><td>26.0</td><td>1218.0</td><td>209.0</td><td>2214.0</td><td>2067.0</td><td>&quot;0&quot;</td></tr><tr><td>&quot;mean&quot;</td><td>null</td><td>null</td><td>0.999312</td><td>15.173904</td><td>58.990024</td><td>5.657358</td><td>49.060709</td><td>4.109992</td><td>0.822303</td><td>6.974621</td><td>2.571899</td><td>0.06792</td><td>46.712713</td><td>null</td></tr><tr><td>&quot;std&quot;</td><td>null</td><td>null</td><td>32.359887</td><td>128.333755</td><td>119.160114</td><td>0.514095</td><td>39.120351</td><td>5.259451</td><td>0.266227</td><td>2.806992</td><td>3.119655</td><td>0.057433</td><td>69.220344</td><td>null</td></tr><tr><td>&quot;min&quot;</td><td>&quot;ak012fko16th&quot;</td><td>&quot;1976-03-25 00:41:20.500000+00:…</td><td>-69.7739</td><td>-179.9776</td><td>-1.77</td><td>4.5</td><td>7.0</td><td>0.0</td><td>0.04</td><td>0.08</td><td>0.0</td><td>0.0</td><td>0.0</td><td>&quot;Non-Severe&quot;</td></tr><tr><td>&quot;25%&quot;</td><td>null</td><td>null</td><td>-21.7389</td><td>-109.6226</td><td>10.0</td><td>5.4</td><td>25.0</td><td>1.047</td><td>0.66</td><td>5.6</td><td>1.7</td><td>0.047</td><td>18.0</td><td>null</td></tr><tr><td>&quot;50%&quot;</td><td>null</td><td>null</td><td>-3.5114</td><td>42.1877</td><td>13.7</td><td>5.6</td><td>38.0</td><td>2.407</td><td>0.82</td><td>7.1</td><td>1.8</td><td>0.059</td><td>29.0</td><td>null</td></tr><tr><td>&quot;75%&quot;</td><td>null</td><td>null</td><td>28.2943</td><td>141.2441</td><td>42.0</td><td>5.9</td><td>59.0</td><td>4.969</td><td>0.99</td><td>8.6</td><td>2.9</td><td>0.073</td><td>47.0</td><td>null</td></tr><tr><td>&quot;max&quot;</td><td>&quot;uw61562126&quot;</td><td>&quot;2024-12-23 06:00:59.074000+00:…</td><td>85.729</td><td>179.9981</td><td>670.81</td><td>8.6</td><td>321.0</td><td>39.934</td><td>2.1</td><td>88.54</td><td>31.95</td><td>1.642</td><td>954.0</td><td>&quot;Severe&quot;</td></tr></tbody></table></div>"
      ],
      "text/plain": [
       "shape: (9, 15)\n",
       "┌───────────┬───────────┬───────────┬───────────┬───┬───────────┬──────────┬───────────┬───────────┐\n",
       "│ statistic ┆ id        ┆ time      ┆ latitude  ┆ … ┆ depthErro ┆ magError ┆ magNst    ┆ Alert     │\n",
       "│ ---       ┆ ---       ┆ ---       ┆ ---       ┆   ┆ r         ┆ ---      ┆ ---       ┆ ---       │\n",
       "│ str       ┆ str       ┆ str       ┆ f64       ┆   ┆ ---       ┆ f64      ┆ f64       ┆ str       │\n",
       "│           ┆           ┆           ┆           ┆   ┆ f64       ┆          ┆           ┆           │\n",
       "╞═══════════╪═══════════╪═══════════╪═══════════╪═══╪═══════════╪══════════╪═══════════╪═══════════╡\n",
       "│ count     ┆ 7699      ┆ 7699      ┆ 7699.0    ┆ … ┆ 7490.0    ┆ 5485.0   ┆ 5632.0    ┆ 7699      │\n",
       "│ null_coun ┆ 0         ┆ 0         ┆ 0.0       ┆ … ┆ 209.0     ┆ 2214.0   ┆ 2067.0    ┆ 0         │\n",
       "│ t         ┆           ┆           ┆           ┆   ┆           ┆          ┆           ┆           │\n",
       "│ mean      ┆ null      ┆ null      ┆ 0.999312  ┆ … ┆ 2.571899  ┆ 0.06792  ┆ 46.712713 ┆ null      │\n",
       "│ std       ┆ null      ┆ null      ┆ 32.359887 ┆ … ┆ 3.119655  ┆ 0.057433 ┆ 69.220344 ┆ null      │\n",
       "│ min       ┆ ak012fko1 ┆ 1976-03-2 ┆ -69.7739  ┆ … ┆ 0.0       ┆ 0.0      ┆ 0.0       ┆ Non-Sever │\n",
       "│           ┆ 6th       ┆ 5 00:41:2 ┆           ┆   ┆           ┆          ┆           ┆ e         │\n",
       "│           ┆           ┆ 0.500000+ ┆           ┆   ┆           ┆          ┆           ┆           │\n",
       "│           ┆           ┆ 00:…      ┆           ┆   ┆           ┆          ┆           ┆           │\n",
       "│ 25%       ┆ null      ┆ null      ┆ -21.7389  ┆ … ┆ 1.7       ┆ 0.047    ┆ 18.0      ┆ null      │\n",
       "│ 50%       ┆ null      ┆ null      ┆ -3.5114   ┆ … ┆ 1.8       ┆ 0.059    ┆ 29.0      ┆ null      │\n",
       "│ 75%       ┆ null      ┆ null      ┆ 28.2943   ┆ … ┆ 2.9       ┆ 0.073    ┆ 47.0      ┆ null      │\n",
       "│ max       ┆ uw6156212 ┆ 2024-12-2 ┆ 85.729    ┆ … ┆ 31.95     ┆ 1.642    ┆ 954.0     ┆ Severe    │\n",
       "│           ┆ 6         ┆ 3 06:00:5 ┆           ┆   ┆           ┆          ┆           ┆           │\n",
       "│           ┆           ┆ 9.074000+ ┆           ┆   ┆           ┆          ┆           ┆           │\n",
       "│           ┆           ┆ 00:…      ┆           ┆   ┆           ┆          ┆           ┆           │\n",
       "└───────────┴───────────┴───────────┴───────────┴───┴───────────┴──────────┴───────────┴───────────┘"
      ]
     },
     "execution_count": 5,
     "metadata": {},
     "output_type": "execute_result"
    }
   ],
   "source": [
    "# (1) YOUR CODE HERE\n",
    "earthquake = pl.read_parquet(\"earthquakes.parquet\")\n",
    "earthquake.describe()"
   ]
  },
  {
   "cell_type": "code",
   "execution_count": 6,
   "metadata": {
    "id": "6VQganpcnIEZ"
   },
   "outputs": [
    {
     "data": {
      "text/html": [
       "<div><style>\n",
       ".dataframe > thead > tr,\n",
       ".dataframe > tbody > tr {\n",
       "  text-align: right;\n",
       "  white-space: pre-wrap;\n",
       "}\n",
       "</style>\n",
       "<small>shape: (5, 12)</small><table border=\"1\" class=\"dataframe\"><thead><tr><th>latitude</th><th>longitude</th><th>depth</th><th>mag</th><th>gap</th><th>dmin</th><th>rms</th><th>horizontalError</th><th>depthError</th><th>magError</th><th>magNst</th><th>Alert</th></tr><tr><td>f64</td><td>f64</td><td>f64</td><td>f64</td><td>f64</td><td>f64</td><td>f64</td><td>f64</td><td>f64</td><td>f64</td><td>f64</td><td>str</td></tr></thead><tbody><tr><td>35.59</td><td>-90.48</td><td>15.0</td><td>4.62</td><td>null</td><td>null</td><td>null</td><td>null</td><td>null</td><td>null</td><td>0.0</td><td>&quot;Non-Severe&quot;</td></tr><tr><td>32.998667</td><td>-115.5575</td><td>14.19</td><td>5.8</td><td>79.0</td><td>0.05768</td><td>0.17</td><td>1.03</td><td>1.78</td><td>null</td><td>0.0</td><td>&quot;Severe&quot;</td></tr><tr><td>38.19</td><td>-83.95</td><td>10.0</td><td>5.0</td><td>null</td><td>null</td><td>null</td><td>null</td><td>null</td><td>null</td><td>null</td><td>&quot;Non-Severe&quot;</td></tr><tr><td>35.816</td><td>-117.816333</td><td>4.766</td><td>4.7</td><td>135.0</td><td>null</td><td>0.66</td><td>2.51</td><td>31.61</td><td>0.424</td><td>9.0</td><td>&quot;Non-Severe&quot;</td></tr><tr><td>33.0955</td><td>-115.6245</td><td>18.904</td><td>5.75</td><td>34.0</td><td>null</td><td>0.34</td><td>0.56</td><td>0.67</td><td>0.161</td><td>6.0</td><td>&quot;Non-Severe&quot;</td></tr></tbody></table></div>"
      ],
      "text/plain": [
       "shape: (5, 12)\n",
       "┌───────────┬─────────────┬────────┬──────┬───┬────────────┬──────────┬────────┬────────────┐\n",
       "│ latitude  ┆ longitude   ┆ depth  ┆ mag  ┆ … ┆ depthError ┆ magError ┆ magNst ┆ Alert      │\n",
       "│ ---       ┆ ---         ┆ ---    ┆ ---  ┆   ┆ ---        ┆ ---      ┆ ---    ┆ ---        │\n",
       "│ f64       ┆ f64         ┆ f64    ┆ f64  ┆   ┆ f64        ┆ f64      ┆ f64    ┆ str        │\n",
       "╞═══════════╪═════════════╪════════╪══════╪═══╪════════════╪══════════╪════════╪════════════╡\n",
       "│ 35.59     ┆ -90.48      ┆ 15.0   ┆ 4.62 ┆ … ┆ null       ┆ null     ┆ 0.0    ┆ Non-Severe │\n",
       "│ 32.998667 ┆ -115.5575   ┆ 14.19  ┆ 5.8  ┆ … ┆ 1.78       ┆ null     ┆ 0.0    ┆ Severe     │\n",
       "│ 38.19     ┆ -83.95      ┆ 10.0   ┆ 5.0  ┆ … ┆ null       ┆ null     ┆ null   ┆ Non-Severe │\n",
       "│ 35.816    ┆ -117.816333 ┆ 4.766  ┆ 4.7  ┆ … ┆ 31.61      ┆ 0.424    ┆ 9.0    ┆ Non-Severe │\n",
       "│ 33.0955   ┆ -115.6245   ┆ 18.904 ┆ 5.75 ┆ … ┆ 0.67       ┆ 0.161    ┆ 6.0    ┆ Non-Severe │\n",
       "└───────────┴─────────────┴────────┴──────┴───┴────────────┴──────────┴────────┴────────────┘"
      ]
     },
     "execution_count": 6,
     "metadata": {},
     "output_type": "execute_result"
    }
   ],
   "source": [
    "# (2) YOUR CODE HERE\n",
    "earthquake = earthquake.drop(\"id\")\n",
    "earthquake = earthquake.drop(\"time\")\n",
    "earthquake.head(5)"
   ]
  },
  {
   "cell_type": "markdown",
   "metadata": {
    "id": "Yv9TQIWqoWpY"
   },
   "source": [
    "## Question 1.2: Handle null values\n",
    "\n",
    "The result of the `null_count` function indicates that some columns contain null values. Fill these null values with the median of the corresponding column and display the first 5 rows of the resulting dataframe."
   ]
  },
  {
   "cell_type": "code",
   "execution_count": 7,
   "metadata": {
    "id": "5SkBkhO7ouYE"
   },
   "outputs": [
    {
     "data": {
      "text/html": [
       "<div><style>\n",
       ".dataframe > thead > tr,\n",
       ".dataframe > tbody > tr {\n",
       "  text-align: right;\n",
       "  white-space: pre-wrap;\n",
       "}\n",
       "</style>\n",
       "<small>shape: (1, 12)</small><table border=\"1\" class=\"dataframe\"><thead><tr><th>latitude</th><th>longitude</th><th>depth</th><th>mag</th><th>gap</th><th>dmin</th><th>rms</th><th>horizontalError</th><th>depthError</th><th>magError</th><th>magNst</th><th>Alert</th></tr><tr><td>u32</td><td>u32</td><td>u32</td><td>u32</td><td>u32</td><td>u32</td><td>u32</td><td>u32</td><td>u32</td><td>u32</td><td>u32</td><td>u32</td></tr></thead><tbody><tr><td>0</td><td>0</td><td>0</td><td>0</td><td>324</td><td>702</td><td>26</td><td>1218</td><td>209</td><td>2214</td><td>2067</td><td>0</td></tr></tbody></table></div>"
      ],
      "text/plain": [
       "shape: (1, 12)\n",
       "┌──────────┬───────────┬───────┬─────┬───┬────────────┬──────────┬────────┬───────┐\n",
       "│ latitude ┆ longitude ┆ depth ┆ mag ┆ … ┆ depthError ┆ magError ┆ magNst ┆ Alert │\n",
       "│ ---      ┆ ---       ┆ ---   ┆ --- ┆   ┆ ---        ┆ ---      ┆ ---    ┆ ---   │\n",
       "│ u32      ┆ u32       ┆ u32   ┆ u32 ┆   ┆ u32        ┆ u32      ┆ u32    ┆ u32   │\n",
       "╞══════════╪═══════════╪═══════╪═════╪═══╪════════════╪══════════╪════════╪═══════╡\n",
       "│ 0        ┆ 0         ┆ 0     ┆ 0   ┆ … ┆ 209        ┆ 2214     ┆ 2067   ┆ 0     │\n",
       "└──────────┴───────────┴───────┴─────┴───┴────────────┴──────────┴────────┴───────┘"
      ]
     },
     "execution_count": 7,
     "metadata": {},
     "output_type": "execute_result"
    }
   ],
   "source": [
    "earthquake.null_count()"
   ]
  },
  {
   "cell_type": "code",
   "execution_count": 9,
   "metadata": {
    "id": "YvX9BKCnovfk"
   },
   "outputs": [
    {
     "data": {
      "text/html": [
       "<div><style>\n",
       ".dataframe > thead > tr,\n",
       ".dataframe > tbody > tr {\n",
       "  text-align: right;\n",
       "  white-space: pre-wrap;\n",
       "}\n",
       "</style>\n",
       "<small>shape: (5, 12)</small><table border=\"1\" class=\"dataframe\"><thead><tr><th>latitude</th><th>longitude</th><th>depth</th><th>mag</th><th>gap</th><th>dmin</th><th>rms</th><th>horizontalError</th><th>depthError</th><th>magError</th><th>magNst</th><th>Alert</th></tr><tr><td>f64</td><td>f64</td><td>f64</td><td>f64</td><td>f64</td><td>f64</td><td>f64</td><td>f64</td><td>f64</td><td>f64</td><td>f64</td><td>str</td></tr></thead><tbody><tr><td>35.59</td><td>-90.48</td><td>15.0</td><td>4.62</td><td>38.0</td><td>2.407</td><td>0.82</td><td>7.1</td><td>1.8</td><td>0.059</td><td>0.0</td><td>&quot;Non-Severe&quot;</td></tr><tr><td>32.998667</td><td>-115.5575</td><td>14.19</td><td>5.8</td><td>79.0</td><td>0.05768</td><td>0.17</td><td>1.03</td><td>1.78</td><td>0.059</td><td>0.0</td><td>&quot;Severe&quot;</td></tr><tr><td>38.19</td><td>-83.95</td><td>10.0</td><td>5.0</td><td>38.0</td><td>2.407</td><td>0.82</td><td>7.1</td><td>1.8</td><td>0.059</td><td>29.0</td><td>&quot;Non-Severe&quot;</td></tr><tr><td>35.816</td><td>-117.816333</td><td>4.766</td><td>4.7</td><td>135.0</td><td>2.407</td><td>0.66</td><td>2.51</td><td>31.61</td><td>0.424</td><td>9.0</td><td>&quot;Non-Severe&quot;</td></tr><tr><td>33.0955</td><td>-115.6245</td><td>18.904</td><td>5.75</td><td>34.0</td><td>2.407</td><td>0.34</td><td>0.56</td><td>0.67</td><td>0.161</td><td>6.0</td><td>&quot;Non-Severe&quot;</td></tr></tbody></table></div>"
      ],
      "text/plain": [
       "shape: (5, 12)\n",
       "┌───────────┬─────────────┬────────┬──────┬───┬────────────┬──────────┬────────┬────────────┐\n",
       "│ latitude  ┆ longitude   ┆ depth  ┆ mag  ┆ … ┆ depthError ┆ magError ┆ magNst ┆ Alert      │\n",
       "│ ---       ┆ ---         ┆ ---    ┆ ---  ┆   ┆ ---        ┆ ---      ┆ ---    ┆ ---        │\n",
       "│ f64       ┆ f64         ┆ f64    ┆ f64  ┆   ┆ f64        ┆ f64      ┆ f64    ┆ str        │\n",
       "╞═══════════╪═════════════╪════════╪══════╪═══╪════════════╪══════════╪════════╪════════════╡\n",
       "│ 35.59     ┆ -90.48      ┆ 15.0   ┆ 4.62 ┆ … ┆ 1.8        ┆ 0.059    ┆ 0.0    ┆ Non-Severe │\n",
       "│ 32.998667 ┆ -115.5575   ┆ 14.19  ┆ 5.8  ┆ … ┆ 1.78       ┆ 0.059    ┆ 0.0    ┆ Severe     │\n",
       "│ 38.19     ┆ -83.95      ┆ 10.0   ┆ 5.0  ┆ … ┆ 1.8        ┆ 0.059    ┆ 29.0   ┆ Non-Severe │\n",
       "│ 35.816    ┆ -117.816333 ┆ 4.766  ┆ 4.7  ┆ … ┆ 31.61      ┆ 0.424    ┆ 9.0    ┆ Non-Severe │\n",
       "│ 33.0955   ┆ -115.6245   ┆ 18.904 ┆ 5.75 ┆ … ┆ 0.67       ┆ 0.161    ┆ 6.0    ┆ Non-Severe │\n",
       "└───────────┴─────────────┴────────┴──────┴───┴────────────┴──────────┴────────┴────────────┘"
      ]
     },
     "execution_count": 9,
     "metadata": {},
     "output_type": "execute_result"
    }
   ],
   "source": [
    "# YOUR CODE HERE\n",
    "earthquake = earthquake.with_columns(\n",
    "    pl.col(\"gap\").fill_null(pl.col(\"gap\").median()),\n",
    "    pl.col(\"dmin\").fill_null(pl.col(\"dmin\").median()),\n",
    "    pl.col(\"rms\").fill_null(pl.col(\"rms\").median()),\n",
    "    pl.col(\"horizontalError\").fill_null(pl.col(\"horizontalError\").median()),\n",
    "    pl.col(\"depthError\").fill_null(pl.col(\"depthError\").median()), \n",
    "    pl.col(\"magError\").fill_null(pl.col(\"magError\").median()),\n",
    "    pl.col(\"magNst\").fill_null(pl.col(\"magNst\").median())\n",
    ")\n",
    "earthquake.head(5)"
   ]
  },
  {
   "cell_type": "markdown",
   "metadata": {
    "id": "61faU0aZzRqk"
   },
   "source": [
    "## Question 1.3: Explore target distribution\n",
    "\n",
    "Count the number of instances of each severity level of the earthquake in the dataset.\n",
    "\n",
    "Comment on your findings, providing insights into the distribution of different severity levels."
   ]
  },
  {
   "cell_type": "code",
   "execution_count": 19,
   "metadata": {
    "id": "8T3pp1W0zRDt"
   },
   "outputs": [
    {
     "name": "stderr",
     "output_type": "stream",
     "text": [
      "C:\\Users\\Andy Yuan\\AppData\\Local\\Temp\\ipykernel_11460\\3988741947.py:2: DeprecationWarning: `GroupBy.count` is deprecated. It has been renamed to `len`.\n",
      "  earthquake.group_by(\"Alert\").count()\n"
     ]
    },
    {
     "data": {
      "text/html": [
       "<div><style>\n",
       ".dataframe > thead > tr,\n",
       ".dataframe > tbody > tr {\n",
       "  text-align: right;\n",
       "  white-space: pre-wrap;\n",
       "}\n",
       "</style>\n",
       "<small>shape: (2, 2)</small><table border=\"1\" class=\"dataframe\"><thead><tr><th>Alert</th><th>count</th></tr><tr><td>str</td><td>u32</td></tr></thead><tbody><tr><td>&quot;Severe&quot;</td><td>331</td></tr><tr><td>&quot;Non-Severe&quot;</td><td>7368</td></tr></tbody></table></div>"
      ],
      "text/plain": [
       "shape: (2, 2)\n",
       "┌────────────┬───────┐\n",
       "│ Alert      ┆ count │\n",
       "│ ---        ┆ ---   │\n",
       "│ str        ┆ u32   │\n",
       "╞════════════╪═══════╡\n",
       "│ Severe     ┆ 331   │\n",
       "│ Non-Severe ┆ 7368  │\n",
       "└────────────┴───────┘"
      ]
     },
     "execution_count": 19,
     "metadata": {},
     "output_type": "execute_result"
    }
   ],
   "source": [
    "# YOUR CODE HERE\n",
    "earthquake.group_by(\"Alert\").count()"
   ]
  },
  {
   "cell_type": "markdown",
   "metadata": {
    "id": "ZtiF3a-qzpPy"
   },
   "source": [
    "(Your written answer here)\n",
    "\n",
    "It appears that there is significant class imbalance in this dataset. This typically presents a problem because it is so unlikely to categorise earthquakes as severe when we train our model.\n"
   ]
  },
  {
   "cell_type": "markdown",
   "metadata": {
    "id": "766tNRJzbBFA"
   },
   "source": [
    "## Question 1.4: Convert target variable\n",
    "\n",
    "Convert **`Alert`** to a binary numerical target:\n",
    "- Replace **`Severe`** with 1.\n",
    "- Replace **`Non-Severe`** with 0.\n",
    "\n",
    "Display the first 5 rows of the resulting dataframe.\n",
    "\n",
    "Hint: If you use the `replace` method, the resulting column will still be of string type. Use `cast` to make it `Float64` after replacement."
   ]
  },
  {
   "cell_type": "code",
   "execution_count": 20,
   "metadata": {
    "id": "qjO3iAxvaTpT"
   },
   "outputs": [
    {
     "data": {
      "text/html": [
       "<div><style>\n",
       ".dataframe > thead > tr,\n",
       ".dataframe > tbody > tr {\n",
       "  text-align: right;\n",
       "  white-space: pre-wrap;\n",
       "}\n",
       "</style>\n",
       "<small>shape: (5, 12)</small><table border=\"1\" class=\"dataframe\"><thead><tr><th>latitude</th><th>longitude</th><th>depth</th><th>mag</th><th>gap</th><th>dmin</th><th>rms</th><th>horizontalError</th><th>depthError</th><th>magError</th><th>magNst</th><th>Alert</th></tr><tr><td>f64</td><td>f64</td><td>f64</td><td>f64</td><td>f64</td><td>f64</td><td>f64</td><td>f64</td><td>f64</td><td>f64</td><td>f64</td><td>f64</td></tr></thead><tbody><tr><td>35.59</td><td>-90.48</td><td>15.0</td><td>4.62</td><td>38.0</td><td>2.407</td><td>0.82</td><td>7.1</td><td>1.8</td><td>0.059</td><td>0.0</td><td>0.0</td></tr><tr><td>32.998667</td><td>-115.5575</td><td>14.19</td><td>5.8</td><td>79.0</td><td>0.05768</td><td>0.17</td><td>1.03</td><td>1.78</td><td>0.059</td><td>0.0</td><td>1.0</td></tr><tr><td>38.19</td><td>-83.95</td><td>10.0</td><td>5.0</td><td>38.0</td><td>2.407</td><td>0.82</td><td>7.1</td><td>1.8</td><td>0.059</td><td>29.0</td><td>0.0</td></tr><tr><td>35.816</td><td>-117.816333</td><td>4.766</td><td>4.7</td><td>135.0</td><td>2.407</td><td>0.66</td><td>2.51</td><td>31.61</td><td>0.424</td><td>9.0</td><td>0.0</td></tr><tr><td>33.0955</td><td>-115.6245</td><td>18.904</td><td>5.75</td><td>34.0</td><td>2.407</td><td>0.34</td><td>0.56</td><td>0.67</td><td>0.161</td><td>6.0</td><td>0.0</td></tr></tbody></table></div>"
      ],
      "text/plain": [
       "shape: (5, 12)\n",
       "┌───────────┬─────────────┬────────┬──────┬───┬────────────┬──────────┬────────┬───────┐\n",
       "│ latitude  ┆ longitude   ┆ depth  ┆ mag  ┆ … ┆ depthError ┆ magError ┆ magNst ┆ Alert │\n",
       "│ ---       ┆ ---         ┆ ---    ┆ ---  ┆   ┆ ---        ┆ ---      ┆ ---    ┆ ---   │\n",
       "│ f64       ┆ f64         ┆ f64    ┆ f64  ┆   ┆ f64        ┆ f64      ┆ f64    ┆ f64   │\n",
       "╞═══════════╪═════════════╪════════╪══════╪═══╪════════════╪══════════╪════════╪═══════╡\n",
       "│ 35.59     ┆ -90.48      ┆ 15.0   ┆ 4.62 ┆ … ┆ 1.8        ┆ 0.059    ┆ 0.0    ┆ 0.0   │\n",
       "│ 32.998667 ┆ -115.5575   ┆ 14.19  ┆ 5.8  ┆ … ┆ 1.78       ┆ 0.059    ┆ 0.0    ┆ 1.0   │\n",
       "│ 38.19     ┆ -83.95      ┆ 10.0   ┆ 5.0  ┆ … ┆ 1.8        ┆ 0.059    ┆ 29.0   ┆ 0.0   │\n",
       "│ 35.816    ┆ -117.816333 ┆ 4.766  ┆ 4.7  ┆ … ┆ 31.61      ┆ 0.424    ┆ 9.0    ┆ 0.0   │\n",
       "│ 33.0955   ┆ -115.6245   ┆ 18.904 ┆ 5.75 ┆ … ┆ 0.67       ┆ 0.161    ┆ 6.0    ┆ 0.0   │\n",
       "└───────────┴─────────────┴────────┴──────┴───┴────────────┴──────────┴────────┴───────┘"
      ]
     },
     "execution_count": 20,
     "metadata": {},
     "output_type": "execute_result"
    }
   ],
   "source": [
    "# YOUR CODE HERE\n",
    "earthquake = earthquake.with_columns(pl.col(\"Alert\").replace(\"Severe\", 1))\n",
    "earthquake = earthquake.with_columns(pl.col(\"Alert\").replace(\"Non-Severe\", 0))\n",
    "earthquake = earthquake.cast({\"Alert\": pl.Float64})\n",
    "earthquake.head()"
   ]
  },
  {
   "cell_type": "markdown",
   "metadata": {
    "id": "mxDVkMQ-hEem"
   },
   "source": [
    "## Question 1.5: Train test split\n",
    "\n",
    "Split the dataset into training and testing sets:\n",
    "- With **30% testing data** and **70% training data**.\n",
    "- Set the **random state** to **2025**.\n",
    "- Use **stratified splitting** to **maintain the same proportion of each class** in the target variable (**`Alert`**) in both the training and testing sets.\n",
    "\n",
    "Display the descriptive statistics for X_train and X_test."
   ]
  },
  {
   "cell_type": "code",
   "execution_count": null,
   "metadata": {
    "id": "DG9n0DVHwJp0"
   },
   "outputs": [],
   "source": [
    "# YOUR CODE HERE\n"
   ]
  },
  {
   "cell_type": "markdown",
   "metadata": {
    "id": "DkcOJ8fErgu8"
   },
   "source": [
    "# Part 2: Sequential Feature Selection"
   ]
  },
  {
   "cell_type": "markdown",
   "metadata": {
    "id": "6MKT3NRarkz5"
   },
   "source": [
    "## Question 2.1: Forward Selection\n",
    "\n",
    "Create a pipeline using [`SequentialFeatureSelector`](https://scikit-learn.org/stable/modules/generated/sklearn.feature_selection.SequentialFeatureSelector.html) to perform **forward** feature selection:\n",
    "- Standardize the data, ensuring each feature has a mean of 0 and a standard deviation of 1.\n",
    "- Use **ROC AUC** as the scoring metric for feature selection. Conduct **5-fold cross-validation** to evaluate the model. Set the **tolerance for stopping** the selection process to **0.001**.\n",
    "- Configure the logistic regression to use the default **`lbfgs`** as solver with **no penalty**. Set the **maximum number of iterations** to **1000**. Use a **balanced** weight that adjust weights inversely proportional to class frequencies in the input data. Set the **random state** to **2025**.\n",
    "\n",
    "Fit the pipeline and report the subset of variables on this method.\n"
   ]
  },
  {
   "cell_type": "code",
   "execution_count": null,
   "metadata": {
    "id": "I0gfWRgo1P14"
   },
   "outputs": [],
   "source": [
    "# YOUR CODE HERE\n"
   ]
  },
  {
   "cell_type": "markdown",
   "metadata": {
    "id": "ACAsAnUdLB_o"
   },
   "source": [
    "## Question 2.2: Backward Selection\n",
    "\n",
    "Create a pipeline using [`SequentialFeatureSelector`](https://scikit-learn.org/stable/modules/generated/sklearn.feature_selection.SequentialFeatureSelector.html) to perform **backward** feature selection. Keep all other configurations the same as in the previous question\n",
    "\n",
    "Fit the pipeline and report the subset of variables on this method.\n"
   ]
  },
  {
   "cell_type": "code",
   "execution_count": null,
   "metadata": {
    "id": "fnrafwMxK08Z"
   },
   "outputs": [],
   "source": [
    "# YOUR CODE HERE\n"
   ]
  },
  {
   "cell_type": "markdown",
   "metadata": {
    "id": "8cSXKQpXMlwm"
   },
   "source": [
    "## Question 2.3: Compare results & find the best model\n",
    "\n",
    "Compare and discuss the selected subset of variables obtained from both methods used in the previous steps.\n",
    "\n",
    "Perform an **exhaustive search** over all possible subsets of the remaining variables using **5-fold cross-validation** to find the best model. Use the same Logistic Regression configurations as in previous questions.\n",
    "\n",
    "Hint: If you have correctly followed the previous steps, you should have **five remaining variables** to evaluate in the exhaustive search."
   ]
  },
  {
   "cell_type": "markdown",
   "metadata": {
    "id": "fEAnA4JUOgw_"
   },
   "source": [
    "(Your written answer here)\n",
    "\n",
    "Among all 11 variables, forward selection resulted in 5 features, while backward selection selected 10 features. This indicates that backward selection retains more variables, perhaps due to its nature of removing less impactful features instead of building up the model iteratively. Both selection results agree on keeping `['latitude', 'depth', 'mag', 'dmin', 'horizontalError']`. We should then conduct an exhaustive search using the remaining five variables `['longitude', 'gap', 'depthError', 'magError', 'magNst']`."
   ]
  },
  {
   "cell_type": "code",
   "execution_count": null,
   "metadata": {
    "id": "Qjjk41LbMlo5"
   },
   "outputs": [],
   "source": [
    "# YOUR CODE HERE\n"
   ]
  },
  {
   "cell_type": "markdown",
   "metadata": {
    "id": "Qe7q3KFzSCOp"
   },
   "source": [
    "## Question 2.4: Fit the best model\n",
    "\n",
    "Train a logistic regression model with the best variables selected.\n",
    "\n",
    "Display the model's coefficients and intercept."
   ]
  },
  {
   "cell_type": "code",
   "execution_count": null,
   "metadata": {
    "id": "YdCYh9e3MlPu"
   },
   "outputs": [],
   "source": [
    "# YOUR CODE HERE\n"
   ]
  },
  {
   "cell_type": "markdown",
   "metadata": {
    "id": "NkqKda5RV0hZ"
   },
   "source": [
    "## Question 2.5: Measure model's performance\n",
    "\n",
    "Construct a **95% confidence interval** for both accuracy and AUC using **100 bootstrap resamples** of the test set."
   ]
  },
  {
   "cell_type": "code",
   "execution_count": null,
   "metadata": {
    "id": "u7JoX1dnMFUR"
   },
   "outputs": [],
   "source": [
    "np.random.seed(2025) # DO NOT DELETE\n",
    "\n",
    "# YOUR CODE HERE\n"
   ]
  },
  {
   "cell_type": "markdown",
   "metadata": {
    "id": "DMFb9isT5HG7"
   },
   "source": [
    "# Part 3: Regularization"
   ]
  },
  {
   "cell_type": "markdown",
   "metadata": {
    "id": "UN8KyRvX6D_y"
   },
   "source": [
    "## Question 3.1: Ridge penalization\n",
    "\n",
    "Create a pipeline using [`LogisticRegressionCV`](https://scikit-learn.org/stable/modules/generated/sklearn.linear_model.LogisticRegressionCV.html) to implement a logistic regression with **Ridge penalization**:\n",
    "- Standardize the data, ensuring each feature has a mean of 0 and a standard deviation of 1.\n",
    "- Configure the **`LogisticRegressionCV`** to use **`saga`** as solver. Use the default **`Cs = 10`**. Set the **maximum number of iterations** to **1000**. Use a **balanced** weight that adjust weights inversely proportional to class frequencies in the input data. Set the **random state** to **2025**. Use **5-fold cross-validation**.\n",
    "\n",
    "Fit the pipeline to get the best model.\n",
    "\n",
    "Construct a **95% confidence interval** for both accuracy and AUC using **100 bootstrap resamples** of the test set."
   ]
  },
  {
   "cell_type": "code",
   "execution_count": null,
   "metadata": {
    "id": "QZh1TMq942kd"
   },
   "outputs": [],
   "source": [
    "np.random.seed(2025) # DO NOT DELETE\n",
    "\n",
    "# YOUR CODE HERE\n"
   ]
  },
  {
   "cell_type": "markdown",
   "metadata": {
    "id": "LWwwyAFxEs3O"
   },
   "source": [
    "## Question 3.2: Lasso penalization\n",
    "\n",
    "Create a pipeline using [`LogisticRegressionCV`](https://scikit-learn.org/stable/modules/generated/sklearn.linear_model.LogisticRegressionCV.html) to implement a logistic regression with **Lasso penalization**:\n",
    "- Standardize the data, ensuring each feature has a mean of 0 and a standard deviation of 1.\n",
    "- Configure the **`LogisticRegressionCV`** to use **`saga`** as solver. Use the default **`Cs = 10`**. Set the **maximum number of iterations** to **1000**. Use a **balanced** weight that adjust weights inversely proportional to class frequencies in the input data. Set the **random state** to **2025**. Use **5-fold cross-validation**.\n",
    "\n",
    "Fit the pipeline to get the best model.\n",
    "\n",
    "Construct a **95% confidence interval** for both accuracy and AUC using **100 bootstrap resamples** of the test set."
   ]
  },
  {
   "cell_type": "code",
   "execution_count": null,
   "metadata": {
    "id": "EOFq1EqUDR5F"
   },
   "outputs": [],
   "source": [
    "np.random.seed(2025) # DO NOT DELETE\n",
    "\n",
    "# YOUR CODE HERE\n"
   ]
  },
  {
   "cell_type": "markdown",
   "metadata": {
    "id": "yB9OrR_SFmUq"
   },
   "source": [
    "## Question 3.3: Ridge vs Lasso\n",
    "\n",
    "Report the coefficients from the best-performing models with Ridge and Lasso penalties.\n",
    "\n",
    "Compare and discuss how the coefficient magnitudes differ between Ridge and Lasso, and explain."
   ]
  },
  {
   "cell_type": "code",
   "execution_count": null,
   "metadata": {
    "id": "90aHPsKTE6vc"
   },
   "outputs": [],
   "source": [
    "# YOUR CODE HERE\n"
   ]
  },
  {
   "cell_type": "markdown",
   "metadata": {
    "id": "3fgLpuw3ItWi"
   },
   "source": [
    "(Your written answer here)\n"
   ]
  },
  {
   "cell_type": "markdown",
   "metadata": {
    "id": "DoMw6CaUMx-B"
   },
   "source": [
    "# Part 4: Overall Comparison\n",
    "\n",
    "Compare the best models obtained using **Sequential Feature Selection**, **Ridge Regularization**, and **Lasso Regularization** by plotting the ROC curve for each model on a single plot. Additionally, include a diagonal reference line representing random classification performance (i.e., an ROC curve with an AUC of 0.5).\n",
    "\n",
    "Provide a brief analysis and comment on your findings (no need to identify the best model)."
   ]
  },
  {
   "cell_type": "code",
   "execution_count": null,
   "metadata": {
    "id": "VI4pxr-mHj8G"
   },
   "outputs": [],
   "source": [
    "# YOUR CODE HERE\n"
   ]
  },
  {
   "cell_type": "markdown",
   "metadata": {
    "id": "rxg6xDcWPzyc"
   },
   "source": [
    "(Your written answer here)\n"
   ]
  }
 ],
 "metadata": {
  "colab": {
   "provenance": []
  },
  "kernelspec": {
   "display_name": "Python 3",
   "name": "python3"
  },
  "language_info": {
   "codemirror_mode": {
    "name": "ipython",
    "version": 3
   },
   "file_extension": ".py",
   "mimetype": "text/x-python",
   "name": "python",
   "nbconvert_exporter": "python",
   "pygments_lexer": "ipython3",
   "version": "3.10.11"
  }
 },
 "nbformat": 4,
 "nbformat_minor": 0
}
